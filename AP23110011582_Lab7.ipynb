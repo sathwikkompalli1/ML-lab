{
  "cells": [
    {
      "cell_type": "markdown",
      "metadata": {
        "id": "view-in-github",
        "colab_type": "text"
      },
      "source": [
        "<a href=\"https://colab.research.google.com/github/sathwikkompalli1/ML-lab/blob/main/AP23110011582_Lab7.ipynb\" target=\"_parent\"><img src=\"https://colab.research.google.com/assets/colab-badge.svg\" alt=\"Open In Colab\"/></a>"
      ]
    },
    {
      "cell_type": "code",
      "execution_count": null,
      "metadata": {
        "colab": {
          "background_save": true
        },
        "id": "9uKxuGg3GdEP",
        "outputId": "e84c9037-10ad-4ce8-c7a4-fd91a94b4b09"
      },
      "outputs": [
        {
          "name": "stdout",
          "output_type": "stream",
          "text": [
            "Downloading...\n",
            "From: https://drive.google.com/uc?id=1ZdhRqYv-JizWV6DxO6C4R_k1kxPhmlF2\n",
            "To: /content/groceries.csv\n",
            "\r  0% 0.00/14.6k [00:00<?, ?B/s]\r100% 14.6k/14.6k [00:00<00:00, 37.1MB/s]\n",
            "Dataset shape: (440, 8)\n",
            "First 5 rows:\n",
            "    Region  Fresh  Milk  Grocery  Frozen  Detergents_Paper  Delicassen  class\n",
            "0       3  12669  9656     7561     214              2674        1338      2\n",
            "1       3   7057  9810     9568    1762              3293        1776      2\n",
            "2       3   6353  8808     7684    2405              3516        7844      2\n",
            "3       3  13265  1196     4221    6404               507        1788      1\n",
            "4       3  22615  5410     7198    3915              1777        5185      1\n"
          ]
        }
      ],
      "source": [
        "import pandas as pd\n",
        "import numpy as np\n",
        "from sklearn.model_selection import train_test_split   #splits datset train 80% test 20%\n",
        "from sklearn.preprocessing import LabelEncoder   #coverts text to numbers\n",
        "!gdown 1ZdhRqYv-JizWV6DxO6C4R_k1kxPhmlF2 -O groceries.csv\n",
        "data = pd.read_csv(\"groceries.csv\")   #!gdown .downloads the dataset from Google Drive using its ID.\n",
        "#loads the CSV file into a DataFrame called data\n",
        "print(\"Dataset shape:\",data.shape)\n",
        "print(\"First 5 rows:\\n\",data.head())"
      ]
    },
    {
      "cell_type": "code",
      "source": [
        "#Pre processing\n",
        "#split\n",
        "X = data.drop(\"class\", axis=1)   # all features except target\n",
        "y = data[\"class\"]                # target variable\n"
      ],
      "metadata": {
        "id": "Fki2w96HTG-r"
      },
      "execution_count": null,
      "outputs": []
    },
    {
      "cell_type": "code",
      "source": [
        "#handle missing values\n",
        "print(data.isnull().sum())\n"
      ],
      "metadata": {
        "colab": {
          "base_uri": "https://localhost:8080/"
        },
        "id": "GKYio73JTPOS",
        "outputId": "9eec7001-bf9d-45c7-c131-b719872d5d1d"
      },
      "execution_count": null,
      "outputs": [
        {
          "output_type": "stream",
          "name": "stdout",
          "text": [
            "Region              0\n",
            "Fresh               0\n",
            "Milk                0\n",
            "Grocery             0\n",
            "Frozen              0\n",
            "Detergents_Paper    0\n",
            "Delicassen          0\n",
            "class               0\n",
            "dtype: int64\n"
          ]
        }
      ]
    },
    {
      "cell_type": "code",
      "source": [
        "X = X.fillna(X.mean())   # fill missing with mean\n"
      ],
      "metadata": {
        "id": "Co0Mfxu9TSvQ"
      },
      "execution_count": null,
      "outputs": []
    },
    {
      "cell_type": "code",
      "source": [
        "#Imbalance\n",
        "from imblearn.over_sampling import SMOTE\n",
        "\n",
        "smote = SMOTE(random_state=42)\n",
        "X_resampled, y_resampled = smote.fit_resample(X, y)\n",
        "\n",
        "print(\"Before SMOTE:\", y.value_counts())\n",
        "print(\"After SMOTE:\", y_resampled.value_counts())\n"
      ],
      "metadata": {
        "colab": {
          "base_uri": "https://localhost:8080/"
        },
        "id": "JuzhKbCrTUqb",
        "outputId": "15636d2e-669b-4896-a3db-38fab0fd752f"
      },
      "execution_count": null,
      "outputs": [
        {
          "output_type": "stream",
          "name": "stdout",
          "text": [
            "Before SMOTE: class\n",
            "2    180\n",
            "3    173\n",
            "1     87\n",
            "Name: count, dtype: int64\n",
            "After SMOTE: class\n",
            "2    180\n",
            "1    180\n",
            "3    180\n",
            "Name: count, dtype: int64\n"
          ]
        }
      ]
    },
    {
      "cell_type": "code",
      "source": [
        "#feature scaling\n",
        "from sklearn.preprocessing import StandardScaler\n",
        "\n",
        "scaler = StandardScaler()\n",
        "X_scaled = scaler.fit_transform(X_resampled)\n"
      ],
      "metadata": {
        "id": "yfqWy-EuTa8S"
      },
      "execution_count": null,
      "outputs": []
    },
    {
      "cell_type": "code",
      "source": [
        "#train test\n",
        "X_train, X_test, y_train, y_test = train_test_split(X_scaled, y_resampled, test_size=0.2, random_state=42)\n"
      ],
      "metadata": {
        "id": "IXMg5MjmTkA-"
      },
      "execution_count": null,
      "outputs": []
    },
    {
      "cell_type": "code",
      "source": [
        "#manhattan\n",
        "import numpy as np\n",
        "from collections import Counter\n",
        "\n",
        "# Manhattan distance function\n",
        "def manhattan_distance(x1, x2):\n",
        "    return np.sum(np.abs(x1 - x2))\n",
        "\n",
        "class KNN_Scratch_Manhattan:\n",
        "    def __init__(self, k=3):   # default k=3\n",
        "        self.k = k\n",
        "\n",
        "    def fit(self, X, y):\n",
        "        self.X_train = np.array(X)\n",
        "        self.y_train = np.array(y)\n",
        "\n",
        "    def predict(self, X):\n",
        "        return [self._predict(x) for x in X]\n",
        "\n",
        "    def _predict(self, x):\n",
        "        # 1. Compute distances\n",
        "        distances = [manhattan_distance(x, x_train) for x_train in self.X_train]\n",
        "\n",
        "        # 2. Get indices of k nearest neighbors\n",
        "        k_idx = np.argsort(distances)[:self.k]\n",
        "\n",
        "        # 3. Get their labels\n",
        "        k_neighbor_labels = [self.y_train[i] for i in k_idx]\n",
        "\n",
        "        # 4. Majority vote\n",
        "        most_common = Counter(k_neighbor_labels).most_common(1)\n",
        "        return most_common[0][0]\n",
        "\n",
        "# -------------------------------\n",
        "# Usage with user input\n",
        "# -------------------------------\n",
        "\n",
        "# user provides k value\n",
        "k_value = int(input(\"Enter the value of k: \"))\n",
        "\n",
        "# initialize with user input k\n",
        "knn_scratch_manhattan = KNN_Scratch_Manhattan(k=k_value)\n",
        "\n",
        "# fit the model\n",
        "knn_scratch_manhattan.fit(X_train, y_train)\n",
        "\n",
        "# predict\n",
        "predictions = knn_scratch_manhattan.predict(X_test)\n",
        "\n",
        "# accuracy\n",
        "acc = np.mean(predictions == y_test)\n",
        "print(f\"KNN Scratch (Manhattan, k={k_value}) Accuracy:\", acc)\n"
      ],
      "metadata": {
        "colab": {
          "base_uri": "https://localhost:8080/"
        },
        "id": "gk51NUKHTiQj",
        "outputId": "da94e209-74b5-4de9-831f-b8964cdb05c8"
      },
      "execution_count": null,
      "outputs": [
        {
          "output_type": "stream",
          "name": "stdout",
          "text": [
            "Enter the value of k: 10\n",
            "KNN Scratch (Manhattan, k=10) Accuracy: 0.8796296296296297\n"
          ]
        }
      ]
    },
    {
      "cell_type": "code",
      "source": [
        "# Take the first test sample\n",
        "x_test = X_test[0]\n",
        "\n",
        "# Compute Manhattan distances to all training points\n",
        "distances = [np.sum(np.abs(x_test - x_train)) for x_train in X_train]\n",
        "\n",
        "# Combine distances with their corresponding y_train labels\n",
        "dist_label = list(zip(distances, y_train))\n",
        "\n",
        "# Sort in ascending order of distance\n",
        "dist_label_sorted = sorted(dist_label, key=lambda x: x[0])\n",
        "\n",
        "print(\"Distances with labels (sorted ascending):\")\n",
        "for d, label in dist_label_sorted[:10]:  # print top 10 closest\n",
        "    print(f\"Distance: {d:.2f}, Label: {label}\")\n",
        "\n",
        "# Ask user for k\n",
        "k = int(input(\"Enter the value of k: \"))\n",
        "\n",
        "# Take k nearest neighbors\n",
        "k_neighbors = dist_label_sorted[:k]\n",
        "neighbor_labels = [label for _, label in k_neighbors]\n",
        "\n",
        "# Predict class by majority vote\n",
        "from collections import Counter\n",
        "pred_class = Counter(neighbor_labels).most_common(1)[0][0]\n",
        "\n",
        "print(f\"Predicted class for the test sample: {pred_class}\")\n"
      ],
      "metadata": {
        "colab": {
          "base_uri": "https://localhost:8080/"
        },
        "id": "0cZWsaU5U1wk",
        "outputId": "95c87297-6222-4460-b75e-12abdc79e834"
      },
      "execution_count": null,
      "outputs": [
        {
          "output_type": "stream",
          "name": "stdout",
          "text": [
            "Distances with labels (sorted ascending):\n",
            "Distance: 0.89, Label: 3\n",
            "Distance: 1.06, Label: 3\n",
            "Distance: 1.13, Label: 3\n",
            "Distance: 1.27, Label: 3\n",
            "Distance: 1.28, Label: 3\n",
            "Distance: 1.45, Label: 3\n",
            "Distance: 1.52, Label: 3\n",
            "Distance: 1.69, Label: 3\n",
            "Distance: 1.69, Label: 3\n",
            "Distance: 1.78, Label: 3\n",
            "Enter the value of k: 3\n",
            "Predicted class for the test sample: 3\n"
          ]
        }
      ]
    },
    {
      "cell_type": "code",
      "source": [
        "def manhattan_distance(x1, x2):\n",
        "    return np.sum(np.abs(x1 - x2))\n",
        "\n",
        "class KNN_Scratch_Auto:\n",
        "    def __init__(self, k=None):\n",
        "        self.k = k\n",
        "\n",
        "    def fit(self, X, y):\n",
        "        self.X_train = np.array(X)\n",
        "        self.y_train = np.array(y)\n",
        "\n",
        "    def predict(self, X):\n",
        "        predictions = []\n",
        "        for x in X:\n",
        "            # Compute distances\n",
        "            distances = [manhattan_distance(x, x_train) for x_train in self.X_train]\n",
        "            dist_label_sorted = sorted(zip(distances, self.y_train), key=lambda x: x[0])\n",
        "\n",
        "            # If k not provided, take sqrt of total samples as default\n",
        "            k_val = self.k or int(np.sqrt(len(self.X_train)))\n",
        "\n",
        "            # Take k nearest neighbors\n",
        "            k_neighbors = dist_label_sorted[:k_val]\n",
        "            neighbor_labels = [label for _, label in k_neighbors]\n",
        "\n",
        "            # Majority vote\n",
        "            pred_class = Counter(neighbor_labels).most_common(1)[0][0]\n",
        "            predictions.append(pred_class)\n",
        "        return np.array(predictions)\n",
        "\n",
        "# -------------------------------\n",
        "# 8) Initialize and run KNN\n",
        "# -------------------------------\n",
        "knn_auto = KNN_Scratch_Auto()  # k will be sqrt(n_train) automatically\n",
        "knn_auto.fit(X_train, y_train)\n",
        "\n",
        "# Predict on test set\n",
        "predictions = knn_auto.predict(X_test)\n",
        "\n",
        "# -------------------------------\n",
        "# 9) Accuracy\n",
        "# -------------------------------\n",
        "accuracy = np.mean(predictions == y_test)\n",
        "print(\"KNN Scratch (Manhattan) Accuracy:\", accuracy)"
      ],
      "metadata": {
        "colab": {
          "base_uri": "https://localhost:8080/"
        },
        "id": "5j6h-8UtWMdg",
        "outputId": "4767e0ab-02e5-46db-b42e-47aef922a07e"
      },
      "execution_count": null,
      "outputs": [
        {
          "output_type": "stream",
          "name": "stdout",
          "text": [
            "KNN Scratch (Manhattan) Accuracy: 0.8888888888888888\n"
          ]
        }
      ]
    },
    {
      "cell_type": "code",
      "source": [
        "# -------------------------------\n",
        "# Step 3: KNN with Scikit-learn\n",
        "# -------------------------------\n",
        "\n",
        "from sklearn.neighbors import KNeighborsClassifier\n",
        "from sklearn.metrics import accuracy_score, classification_report, confusion_matrix\n",
        "\n",
        "if not data.empty:\n",
        "    print(\"\\n--- Step 3: KNN with Scikit-learn ---\")\n",
        "\n",
        "    # --- Preprocessing (Optional if already done) ---\n",
        "    # Handle missing values\n",
        "    X = X.fillna(X.mean())\n",
        "\n",
        "    # Handle imbalance with SMOTE\n",
        "    smote = SMOTE(random_state=42)\n",
        "    X_res, y_res = smote.fit_resample(X, y)\n",
        "\n",
        "    # Feature scaling\n",
        "    scaler = StandardScaler()\n",
        "    X_scaled = scaler.fit_transform(X_res)\n",
        "\n",
        "    # Train/Test split\n",
        "    X_train, X_test, y_train, y_test = train_test_split(X_scaled, y_res, test_size=0.2, random_state=42)\n",
        "\n",
        "    # --- Initialize KNN model ---\n",
        "    knn_sklearn = KNeighborsClassifier(n_neighbors=5, metric='manhattan')  # or 'euclidean'\n",
        "\n",
        "    # Fit the model\n",
        "    knn_sklearn.fit(X_train, y_train)\n",
        "\n",
        "    # Make predictions\n",
        "    predictions_sklearn = knn_sklearn.predict(X_test)\n",
        "\n",
        "    # Evaluate the model\n",
        "    accuracy = accuracy_score(y_test, predictions_sklearn)\n",
        "    print(f\"SKlearn Model Accuracy: {accuracy * 100:.2f}%\")\n",
        "\n",
        "    # Classification report\n",
        "    print(\"\\nClassification Report:\")\n",
        "    print(classification_report(y_test, predictions_sklearn, zero_division=0))\n",
        "\n",
        "    # Confusion matrix\n",
        "    print(\"\\nConfusion Matrix:\")\n",
        "    print(confusion_matrix(y_test, predictions_sklearn))\n"
      ],
      "metadata": {
        "colab": {
          "base_uri": "https://localhost:8080/"
        },
        "id": "QBNtpar6aAo1",
        "outputId": "c1b6f69e-c06a-41c8-8161-f6e3c5ed91ef"
      },
      "execution_count": null,
      "outputs": [
        {
          "output_type": "stream",
          "name": "stdout",
          "text": [
            "\n",
            "--- Step 3: KNN with Scikit-learn ---\n",
            "SKlearn Model Accuracy: 88.89%\n",
            "\n",
            "Classification Report:\n",
            "              precision    recall  f1-score   support\n",
            "\n",
            "           1       0.79      0.97      0.87        34\n",
            "           2       0.96      0.73      0.83        37\n",
            "           3       0.95      0.97      0.96        37\n",
            "\n",
            "    accuracy                           0.89       108\n",
            "   macro avg       0.90      0.89      0.89       108\n",
            "weighted avg       0.90      0.89      0.89       108\n",
            "\n",
            "\n",
            "Confusion Matrix:\n",
            "[[33  0  1]\n",
            " [ 9 27  1]\n",
            " [ 0  1 36]]\n"
          ]
        }
      ]
    }
  ],
  "metadata": {
    "colab": {
      "provenance": [],
      "include_colab_link": true
    },
    "kernelspec": {
      "display_name": "Python 3",
      "name": "python3"
    },
    "language_info": {
      "name": "python"
    }
  },
  "nbformat": 4,
  "nbformat_minor": 0
}