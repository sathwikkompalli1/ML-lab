{
  "cells": [
    {
      "cell_type": "markdown",
      "metadata": {
        "id": "oA5YXly8GMCN"
      },
      "source": [
        "# 🧑‍🎓 Student Version — Solutions Removed\n",
        "- Use the reflection prompts and hints.\n",
        "- Your instructor will share solutions separately."
      ],
      "id": "oA5YXly8GMCN"
    },
    {
      "cell_type": "code",
      "metadata": {
        "id": "zk1ypz6BGMCO"
      },
      "source": [
        "REVEAL_SOLUTIONS = False\n",
        "print('Solutions are hidden in the Student Version.')"
      ],
      "outputs": [],
      "execution_count": null,
      "id": "zk1ypz6BGMCO"
    },
    {
      "cell_type": "markdown",
      "metadata": {
        "id": "Jost9MGrGMCP"
      },
      "source": [
        "# Pandas in Google Colab — 2-Hour Hands-On (+ Advanced & Capstone)\n",
        "**With Reflection Prompts After Each Section**\n",
        "**Last updated:** 2025-08-15\n",
        "\n",
        "Run top-to-bottom. Attempt **Exercises**, then write your **✍️ Analysis** under each section."
      ],
      "id": "Jost9MGrGMCP"
    },
    {
      "cell_type": "markdown",
      "metadata": {
        "id": "eYYSgLYSGMCQ"
      },
      "source": [
        "## 0) Setup & Load the **tips** dataset (10m)"
      ],
      "id": "eYYSgLYSGMCQ"
    },
    {
      "cell_type": "code",
      "metadata": {
        "id": "yW6WBUwpGMCQ",
        "colab": {
          "base_uri": "https://localhost:8080/",
          "height": 206
        },
        "outputId": "6b1e1ca7-77d8-46f4-be73-a54c80c9c7bc"
      },
      "source": [
        "import pandas as pd, numpy as np, matplotlib.pyplot as plt\n",
        "pd.set_option('display.max_rows', 10); pd.set_option('display.precision', 3)\n",
        "url = \"https://raw.githubusercontent.com/mwaskom/seaborn-data/master/tips.csv\"\n",
        "tips = pd.read_csv(url); tips.head()"
      ],
      "outputs": [
        {
          "output_type": "execute_result",
          "data": {
            "text/plain": [
              "   total_bill   tip     sex smoker  day    time  size\n",
              "0       16.99  1.01  Female     No  Sun  Dinner     2\n",
              "1       10.34  1.66    Male     No  Sun  Dinner     3\n",
              "2       21.01  3.50    Male     No  Sun  Dinner     3\n",
              "3       23.68  3.31    Male     No  Sun  Dinner     2\n",
              "4       24.59  3.61  Female     No  Sun  Dinner     4"
            ],
            "text/html": [
              "\n",
              "  <div id=\"df-e8e75381-5c63-446f-ad11-c704275a4333\" class=\"colab-df-container\">\n",
              "    <div>\n",
              "<style scoped>\n",
              "    .dataframe tbody tr th:only-of-type {\n",
              "        vertical-align: middle;\n",
              "    }\n",
              "\n",
              "    .dataframe tbody tr th {\n",
              "        vertical-align: top;\n",
              "    }\n",
              "\n",
              "    .dataframe thead th {\n",
              "        text-align: right;\n",
              "    }\n",
              "</style>\n",
              "<table border=\"1\" class=\"dataframe\">\n",
              "  <thead>\n",
              "    <tr style=\"text-align: right;\">\n",
              "      <th></th>\n",
              "      <th>total_bill</th>\n",
              "      <th>tip</th>\n",
              "      <th>sex</th>\n",
              "      <th>smoker</th>\n",
              "      <th>day</th>\n",
              "      <th>time</th>\n",
              "      <th>size</th>\n",
              "    </tr>\n",
              "  </thead>\n",
              "  <tbody>\n",
              "    <tr>\n",
              "      <th>0</th>\n",
              "      <td>16.99</td>\n",
              "      <td>1.01</td>\n",
              "      <td>Female</td>\n",
              "      <td>No</td>\n",
              "      <td>Sun</td>\n",
              "      <td>Dinner</td>\n",
              "      <td>2</td>\n",
              "    </tr>\n",
              "    <tr>\n",
              "      <th>1</th>\n",
              "      <td>10.34</td>\n",
              "      <td>1.66</td>\n",
              "      <td>Male</td>\n",
              "      <td>No</td>\n",
              "      <td>Sun</td>\n",
              "      <td>Dinner</td>\n",
              "      <td>3</td>\n",
              "    </tr>\n",
              "    <tr>\n",
              "      <th>2</th>\n",
              "      <td>21.01</td>\n",
              "      <td>3.50</td>\n",
              "      <td>Male</td>\n",
              "      <td>No</td>\n",
              "      <td>Sun</td>\n",
              "      <td>Dinner</td>\n",
              "      <td>3</td>\n",
              "    </tr>\n",
              "    <tr>\n",
              "      <th>3</th>\n",
              "      <td>23.68</td>\n",
              "      <td>3.31</td>\n",
              "      <td>Male</td>\n",
              "      <td>No</td>\n",
              "      <td>Sun</td>\n",
              "      <td>Dinner</td>\n",
              "      <td>2</td>\n",
              "    </tr>\n",
              "    <tr>\n",
              "      <th>4</th>\n",
              "      <td>24.59</td>\n",
              "      <td>3.61</td>\n",
              "      <td>Female</td>\n",
              "      <td>No</td>\n",
              "      <td>Sun</td>\n",
              "      <td>Dinner</td>\n",
              "      <td>4</td>\n",
              "    </tr>\n",
              "  </tbody>\n",
              "</table>\n",
              "</div>\n",
              "    <div class=\"colab-df-buttons\">\n",
              "\n",
              "  <div class=\"colab-df-container\">\n",
              "    <button class=\"colab-df-convert\" onclick=\"convertToInteractive('df-e8e75381-5c63-446f-ad11-c704275a4333')\"\n",
              "            title=\"Convert this dataframe to an interactive table.\"\n",
              "            style=\"display:none;\">\n",
              "\n",
              "  <svg xmlns=\"http://www.w3.org/2000/svg\" height=\"24px\" viewBox=\"0 -960 960 960\">\n",
              "    <path d=\"M120-120v-720h720v720H120Zm60-500h600v-160H180v160Zm220 220h160v-160H400v160Zm0 220h160v-160H400v160ZM180-400h160v-160H180v160Zm440 0h160v-160H620v160ZM180-180h160v-160H180v160Zm440 0h160v-160H620v160Z\"/>\n",
              "  </svg>\n",
              "    </button>\n",
              "\n",
              "  <style>\n",
              "    .colab-df-container {\n",
              "      display:flex;\n",
              "      gap: 12px;\n",
              "    }\n",
              "\n",
              "    .colab-df-convert {\n",
              "      background-color: #E8F0FE;\n",
              "      border: none;\n",
              "      border-radius: 50%;\n",
              "      cursor: pointer;\n",
              "      display: none;\n",
              "      fill: #1967D2;\n",
              "      height: 32px;\n",
              "      padding: 0 0 0 0;\n",
              "      width: 32px;\n",
              "    }\n",
              "\n",
              "    .colab-df-convert:hover {\n",
              "      background-color: #E2EBFA;\n",
              "      box-shadow: 0px 1px 2px rgba(60, 64, 67, 0.3), 0px 1px 3px 1px rgba(60, 64, 67, 0.15);\n",
              "      fill: #174EA6;\n",
              "    }\n",
              "\n",
              "    .colab-df-buttons div {\n",
              "      margin-bottom: 4px;\n",
              "    }\n",
              "\n",
              "    [theme=dark] .colab-df-convert {\n",
              "      background-color: #3B4455;\n",
              "      fill: #D2E3FC;\n",
              "    }\n",
              "\n",
              "    [theme=dark] .colab-df-convert:hover {\n",
              "      background-color: #434B5C;\n",
              "      box-shadow: 0px 1px 3px 1px rgba(0, 0, 0, 0.15);\n",
              "      filter: drop-shadow(0px 1px 2px rgba(0, 0, 0, 0.3));\n",
              "      fill: #FFFFFF;\n",
              "    }\n",
              "  </style>\n",
              "\n",
              "    <script>\n",
              "      const buttonEl =\n",
              "        document.querySelector('#df-e8e75381-5c63-446f-ad11-c704275a4333 button.colab-df-convert');\n",
              "      buttonEl.style.display =\n",
              "        google.colab.kernel.accessAllowed ? 'block' : 'none';\n",
              "\n",
              "      async function convertToInteractive(key) {\n",
              "        const element = document.querySelector('#df-e8e75381-5c63-446f-ad11-c704275a4333');\n",
              "        const dataTable =\n",
              "          await google.colab.kernel.invokeFunction('convertToInteractive',\n",
              "                                                    [key], {});\n",
              "        if (!dataTable) return;\n",
              "\n",
              "        const docLinkHtml = 'Like what you see? Visit the ' +\n",
              "          '<a target=\"_blank\" href=https://colab.research.google.com/notebooks/data_table.ipynb>data table notebook</a>'\n",
              "          + ' to learn more about interactive tables.';\n",
              "        element.innerHTML = '';\n",
              "        dataTable['output_type'] = 'display_data';\n",
              "        await google.colab.output.renderOutput(dataTable, element);\n",
              "        const docLink = document.createElement('div');\n",
              "        docLink.innerHTML = docLinkHtml;\n",
              "        element.appendChild(docLink);\n",
              "      }\n",
              "    </script>\n",
              "  </div>\n",
              "\n",
              "\n",
              "    <div id=\"df-85b42698-e16e-4ef8-b8b1-020a555de593\">\n",
              "      <button class=\"colab-df-quickchart\" onclick=\"quickchart('df-85b42698-e16e-4ef8-b8b1-020a555de593')\"\n",
              "                title=\"Suggest charts\"\n",
              "                style=\"display:none;\">\n",
              "\n",
              "<svg xmlns=\"http://www.w3.org/2000/svg\" height=\"24px\"viewBox=\"0 0 24 24\"\n",
              "     width=\"24px\">\n",
              "    <g>\n",
              "        <path d=\"M19 3H5c-1.1 0-2 .9-2 2v14c0 1.1.9 2 2 2h14c1.1 0 2-.9 2-2V5c0-1.1-.9-2-2-2zM9 17H7v-7h2v7zm4 0h-2V7h2v10zm4 0h-2v-4h2v4z\"/>\n",
              "    </g>\n",
              "</svg>\n",
              "      </button>\n",
              "\n",
              "<style>\n",
              "  .colab-df-quickchart {\n",
              "      --bg-color: #E8F0FE;\n",
              "      --fill-color: #1967D2;\n",
              "      --hover-bg-color: #E2EBFA;\n",
              "      --hover-fill-color: #174EA6;\n",
              "      --disabled-fill-color: #AAA;\n",
              "      --disabled-bg-color: #DDD;\n",
              "  }\n",
              "\n",
              "  [theme=dark] .colab-df-quickchart {\n",
              "      --bg-color: #3B4455;\n",
              "      --fill-color: #D2E3FC;\n",
              "      --hover-bg-color: #434B5C;\n",
              "      --hover-fill-color: #FFFFFF;\n",
              "      --disabled-bg-color: #3B4455;\n",
              "      --disabled-fill-color: #666;\n",
              "  }\n",
              "\n",
              "  .colab-df-quickchart {\n",
              "    background-color: var(--bg-color);\n",
              "    border: none;\n",
              "    border-radius: 50%;\n",
              "    cursor: pointer;\n",
              "    display: none;\n",
              "    fill: var(--fill-color);\n",
              "    height: 32px;\n",
              "    padding: 0;\n",
              "    width: 32px;\n",
              "  }\n",
              "\n",
              "  .colab-df-quickchart:hover {\n",
              "    background-color: var(--hover-bg-color);\n",
              "    box-shadow: 0 1px 2px rgba(60, 64, 67, 0.3), 0 1px 3px 1px rgba(60, 64, 67, 0.15);\n",
              "    fill: var(--button-hover-fill-color);\n",
              "  }\n",
              "\n",
              "  .colab-df-quickchart-complete:disabled,\n",
              "  .colab-df-quickchart-complete:disabled:hover {\n",
              "    background-color: var(--disabled-bg-color);\n",
              "    fill: var(--disabled-fill-color);\n",
              "    box-shadow: none;\n",
              "  }\n",
              "\n",
              "  .colab-df-spinner {\n",
              "    border: 2px solid var(--fill-color);\n",
              "    border-color: transparent;\n",
              "    border-bottom-color: var(--fill-color);\n",
              "    animation:\n",
              "      spin 1s steps(1) infinite;\n",
              "  }\n",
              "\n",
              "  @keyframes spin {\n",
              "    0% {\n",
              "      border-color: transparent;\n",
              "      border-bottom-color: var(--fill-color);\n",
              "      border-left-color: var(--fill-color);\n",
              "    }\n",
              "    20% {\n",
              "      border-color: transparent;\n",
              "      border-left-color: var(--fill-color);\n",
              "      border-top-color: var(--fill-color);\n",
              "    }\n",
              "    30% {\n",
              "      border-color: transparent;\n",
              "      border-left-color: var(--fill-color);\n",
              "      border-top-color: var(--fill-color);\n",
              "      border-right-color: var(--fill-color);\n",
              "    }\n",
              "    40% {\n",
              "      border-color: transparent;\n",
              "      border-right-color: var(--fill-color);\n",
              "      border-top-color: var(--fill-color);\n",
              "    }\n",
              "    60% {\n",
              "      border-color: transparent;\n",
              "      border-right-color: var(--fill-color);\n",
              "    }\n",
              "    80% {\n",
              "      border-color: transparent;\n",
              "      border-right-color: var(--fill-color);\n",
              "      border-bottom-color: var(--fill-color);\n",
              "    }\n",
              "    90% {\n",
              "      border-color: transparent;\n",
              "      border-bottom-color: var(--fill-color);\n",
              "    }\n",
              "  }\n",
              "</style>\n",
              "\n",
              "      <script>\n",
              "        async function quickchart(key) {\n",
              "          const quickchartButtonEl =\n",
              "            document.querySelector('#' + key + ' button');\n",
              "          quickchartButtonEl.disabled = true;  // To prevent multiple clicks.\n",
              "          quickchartButtonEl.classList.add('colab-df-spinner');\n",
              "          try {\n",
              "            const charts = await google.colab.kernel.invokeFunction(\n",
              "                'suggestCharts', [key], {});\n",
              "          } catch (error) {\n",
              "            console.error('Error during call to suggestCharts:', error);\n",
              "          }\n",
              "          quickchartButtonEl.classList.remove('colab-df-spinner');\n",
              "          quickchartButtonEl.classList.add('colab-df-quickchart-complete');\n",
              "        }\n",
              "        (() => {\n",
              "          let quickchartButtonEl =\n",
              "            document.querySelector('#df-85b42698-e16e-4ef8-b8b1-020a555de593 button');\n",
              "          quickchartButtonEl.style.display =\n",
              "            google.colab.kernel.accessAllowed ? 'block' : 'none';\n",
              "        })();\n",
              "      </script>\n",
              "    </div>\n",
              "\n",
              "    </div>\n",
              "  </div>\n"
            ],
            "application/vnd.google.colaboratory.intrinsic+json": {
              "type": "dataframe",
              "summary": "{\n  \"name\": \"tips = pd\",\n  \"rows\": 5,\n  \"fields\": [\n    {\n      \"column\": \"total_bill\",\n      \"properties\": {\n        \"dtype\": \"number\",\n        \"std\": 5.824686257645128,\n        \"min\": 10.34,\n        \"max\": 24.59,\n        \"num_unique_values\": 5,\n        \"samples\": [\n          10.34,\n          24.59,\n          21.01\n        ],\n        \"semantic_type\": \"\",\n        \"description\": \"\"\n      }\n    },\n    {\n      \"column\": \"tip\",\n      \"properties\": {\n        \"dtype\": \"number\",\n        \"std\": 1.198361381220206,\n        \"min\": 1.01,\n        \"max\": 3.61,\n        \"num_unique_values\": 5,\n        \"samples\": [\n          1.66,\n          3.61,\n          3.5\n        ],\n        \"semantic_type\": \"\",\n        \"description\": \"\"\n      }\n    },\n    {\n      \"column\": \"sex\",\n      \"properties\": {\n        \"dtype\": \"category\",\n        \"num_unique_values\": 2,\n        \"samples\": [\n          \"Male\",\n          \"Female\"\n        ],\n        \"semantic_type\": \"\",\n        \"description\": \"\"\n      }\n    },\n    {\n      \"column\": \"smoker\",\n      \"properties\": {\n        \"dtype\": \"category\",\n        \"num_unique_values\": 1,\n        \"samples\": [\n          \"No\"\n        ],\n        \"semantic_type\": \"\",\n        \"description\": \"\"\n      }\n    },\n    {\n      \"column\": \"day\",\n      \"properties\": {\n        \"dtype\": \"category\",\n        \"num_unique_values\": 1,\n        \"samples\": [\n          \"Sun\"\n        ],\n        \"semantic_type\": \"\",\n        \"description\": \"\"\n      }\n    },\n    {\n      \"column\": \"time\",\n      \"properties\": {\n        \"dtype\": \"category\",\n        \"num_unique_values\": 1,\n        \"samples\": [\n          \"Dinner\"\n        ],\n        \"semantic_type\": \"\",\n        \"description\": \"\"\n      }\n    },\n    {\n      \"column\": \"size\",\n      \"properties\": {\n        \"dtype\": \"number\",\n        \"std\": 0,\n        \"min\": 2,\n        \"max\": 4,\n        \"num_unique_values\": 3,\n        \"samples\": [\n          2\n        ],\n        \"semantic_type\": \"\",\n        \"description\": \"\"\n      }\n    }\n  ]\n}"
            }
          },
          "metadata": {},
          "execution_count": 12
        }
      ],
      "execution_count": null,
      "id": "yW6WBUwpGMCQ"
    },
    {
      "cell_type": "code",
      "metadata": {
        "id": "ko8Sn_8rGMCQ",
        "colab": {
          "base_uri": "https://localhost:8080/",
          "height": 770
        },
        "outputId": "58abc275-3673-4d82-8511-e9f1ee92dd08"
      },
      "source": [
        "print(\"Shape:\", tips.shape)\n",
        "print(\"\\nInfo:\"); print(tips.info())\n",
        "print(\"\\nDescribe:\"); display(tips.describe(include='all'))"
      ],
      "outputs": [
        {
          "output_type": "stream",
          "name": "stdout",
          "text": [
            "Shape: (244, 7)\n",
            "\n",
            "Info:\n",
            "<class 'pandas.core.frame.DataFrame'>\n",
            "RangeIndex: 244 entries, 0 to 243\n",
            "Data columns (total 7 columns):\n",
            " #   Column      Non-Null Count  Dtype  \n",
            "---  ------      --------------  -----  \n",
            " 0   total_bill  244 non-null    float64\n",
            " 1   tip         244 non-null    float64\n",
            " 2   sex         244 non-null    object \n",
            " 3   smoker      244 non-null    object \n",
            " 4   day         244 non-null    object \n",
            " 5   time        244 non-null    object \n",
            " 6   size        244 non-null    int64  \n",
            "dtypes: float64(2), int64(1), object(4)\n",
            "memory usage: 13.5+ KB\n",
            "None\n",
            "\n",
            "Describe:\n"
          ]
        },
        {
          "output_type": "display_data",
          "data": {
            "text/plain": [
              "        total_bill      tip   sex smoker  day    time    size\n",
              "count      244.000  244.000   244    244  244     244  244.00\n",
              "unique         NaN      NaN     2      2    4       2     NaN\n",
              "top            NaN      NaN  Male     No  Sat  Dinner     NaN\n",
              "freq           NaN      NaN   157    151   87     176     NaN\n",
              "mean        19.786    2.998   NaN    NaN  NaN     NaN    2.57\n",
              "...            ...      ...   ...    ...  ...     ...     ...\n",
              "min          3.070    1.000   NaN    NaN  NaN     NaN    1.00\n",
              "25%         13.348    2.000   NaN    NaN  NaN     NaN    2.00\n",
              "50%         17.795    2.900   NaN    NaN  NaN     NaN    2.00\n",
              "75%         24.127    3.562   NaN    NaN  NaN     NaN    3.00\n",
              "max         50.810   10.000   NaN    NaN  NaN     NaN    6.00\n",
              "\n",
              "[11 rows x 7 columns]"
            ],
            "text/html": [
              "\n",
              "  <div id=\"df-aea4990d-2dc0-430e-87dc-a2401afb3d3b\" class=\"colab-df-container\">\n",
              "    <div>\n",
              "<style scoped>\n",
              "    .dataframe tbody tr th:only-of-type {\n",
              "        vertical-align: middle;\n",
              "    }\n",
              "\n",
              "    .dataframe tbody tr th {\n",
              "        vertical-align: top;\n",
              "    }\n",
              "\n",
              "    .dataframe thead th {\n",
              "        text-align: right;\n",
              "    }\n",
              "</style>\n",
              "<table border=\"1\" class=\"dataframe\">\n",
              "  <thead>\n",
              "    <tr style=\"text-align: right;\">\n",
              "      <th></th>\n",
              "      <th>total_bill</th>\n",
              "      <th>tip</th>\n",
              "      <th>sex</th>\n",
              "      <th>smoker</th>\n",
              "      <th>day</th>\n",
              "      <th>time</th>\n",
              "      <th>size</th>\n",
              "    </tr>\n",
              "  </thead>\n",
              "  <tbody>\n",
              "    <tr>\n",
              "      <th>count</th>\n",
              "      <td>244.000</td>\n",
              "      <td>244.000</td>\n",
              "      <td>244</td>\n",
              "      <td>244</td>\n",
              "      <td>244</td>\n",
              "      <td>244</td>\n",
              "      <td>244.00</td>\n",
              "    </tr>\n",
              "    <tr>\n",
              "      <th>unique</th>\n",
              "      <td>NaN</td>\n",
              "      <td>NaN</td>\n",
              "      <td>2</td>\n",
              "      <td>2</td>\n",
              "      <td>4</td>\n",
              "      <td>2</td>\n",
              "      <td>NaN</td>\n",
              "    </tr>\n",
              "    <tr>\n",
              "      <th>top</th>\n",
              "      <td>NaN</td>\n",
              "      <td>NaN</td>\n",
              "      <td>Male</td>\n",
              "      <td>No</td>\n",
              "      <td>Sat</td>\n",
              "      <td>Dinner</td>\n",
              "      <td>NaN</td>\n",
              "    </tr>\n",
              "    <tr>\n",
              "      <th>freq</th>\n",
              "      <td>NaN</td>\n",
              "      <td>NaN</td>\n",
              "      <td>157</td>\n",
              "      <td>151</td>\n",
              "      <td>87</td>\n",
              "      <td>176</td>\n",
              "      <td>NaN</td>\n",
              "    </tr>\n",
              "    <tr>\n",
              "      <th>mean</th>\n",
              "      <td>19.786</td>\n",
              "      <td>2.998</td>\n",
              "      <td>NaN</td>\n",
              "      <td>NaN</td>\n",
              "      <td>NaN</td>\n",
              "      <td>NaN</td>\n",
              "      <td>2.57</td>\n",
              "    </tr>\n",
              "    <tr>\n",
              "      <th>...</th>\n",
              "      <td>...</td>\n",
              "      <td>...</td>\n",
              "      <td>...</td>\n",
              "      <td>...</td>\n",
              "      <td>...</td>\n",
              "      <td>...</td>\n",
              "      <td>...</td>\n",
              "    </tr>\n",
              "    <tr>\n",
              "      <th>min</th>\n",
              "      <td>3.070</td>\n",
              "      <td>1.000</td>\n",
              "      <td>NaN</td>\n",
              "      <td>NaN</td>\n",
              "      <td>NaN</td>\n",
              "      <td>NaN</td>\n",
              "      <td>1.00</td>\n",
              "    </tr>\n",
              "    <tr>\n",
              "      <th>25%</th>\n",
              "      <td>13.348</td>\n",
              "      <td>2.000</td>\n",
              "      <td>NaN</td>\n",
              "      <td>NaN</td>\n",
              "      <td>NaN</td>\n",
              "      <td>NaN</td>\n",
              "      <td>2.00</td>\n",
              "    </tr>\n",
              "    <tr>\n",
              "      <th>50%</th>\n",
              "      <td>17.795</td>\n",
              "      <td>2.900</td>\n",
              "      <td>NaN</td>\n",
              "      <td>NaN</td>\n",
              "      <td>NaN</td>\n",
              "      <td>NaN</td>\n",
              "      <td>2.00</td>\n",
              "    </tr>\n",
              "    <tr>\n",
              "      <th>75%</th>\n",
              "      <td>24.127</td>\n",
              "      <td>3.562</td>\n",
              "      <td>NaN</td>\n",
              "      <td>NaN</td>\n",
              "      <td>NaN</td>\n",
              "      <td>NaN</td>\n",
              "      <td>3.00</td>\n",
              "    </tr>\n",
              "    <tr>\n",
              "      <th>max</th>\n",
              "      <td>50.810</td>\n",
              "      <td>10.000</td>\n",
              "      <td>NaN</td>\n",
              "      <td>NaN</td>\n",
              "      <td>NaN</td>\n",
              "      <td>NaN</td>\n",
              "      <td>6.00</td>\n",
              "    </tr>\n",
              "  </tbody>\n",
              "</table>\n",
              "<p>11 rows × 7 columns</p>\n",
              "</div>\n",
              "    <div class=\"colab-df-buttons\">\n",
              "\n",
              "  <div class=\"colab-df-container\">\n",
              "    <button class=\"colab-df-convert\" onclick=\"convertToInteractive('df-aea4990d-2dc0-430e-87dc-a2401afb3d3b')\"\n",
              "            title=\"Convert this dataframe to an interactive table.\"\n",
              "            style=\"display:none;\">\n",
              "\n",
              "  <svg xmlns=\"http://www.w3.org/2000/svg\" height=\"24px\" viewBox=\"0 -960 960 960\">\n",
              "    <path d=\"M120-120v-720h720v720H120Zm60-500h600v-160H180v160Zm220 220h160v-160H400v160Zm0 220h160v-160H400v160ZM180-400h160v-160H180v160Zm440 0h160v-160H620v160ZM180-180h160v-160H180v160Zm440 0h160v-160H620v160Z\"/>\n",
              "  </svg>\n",
              "    </button>\n",
              "\n",
              "  <style>\n",
              "    .colab-df-container {\n",
              "      display:flex;\n",
              "      gap: 12px;\n",
              "    }\n",
              "\n",
              "    .colab-df-convert {\n",
              "      background-color: #E8F0FE;\n",
              "      border: none;\n",
              "      border-radius: 50%;\n",
              "      cursor: pointer;\n",
              "      display: none;\n",
              "      fill: #1967D2;\n",
              "      height: 32px;\n",
              "      padding: 0 0 0 0;\n",
              "      width: 32px;\n",
              "    }\n",
              "\n",
              "    .colab-df-convert:hover {\n",
              "      background-color: #E2EBFA;\n",
              "      box-shadow: 0px 1px 2px rgba(60, 64, 67, 0.3), 0px 1px 3px 1px rgba(60, 64, 67, 0.15);\n",
              "      fill: #174EA6;\n",
              "    }\n",
              "\n",
              "    .colab-df-buttons div {\n",
              "      margin-bottom: 4px;\n",
              "    }\n",
              "\n",
              "    [theme=dark] .colab-df-convert {\n",
              "      background-color: #3B4455;\n",
              "      fill: #D2E3FC;\n",
              "    }\n",
              "\n",
              "    [theme=dark] .colab-df-convert:hover {\n",
              "      background-color: #434B5C;\n",
              "      box-shadow: 0px 1px 3px 1px rgba(0, 0, 0, 0.15);\n",
              "      filter: drop-shadow(0px 1px 2px rgba(0, 0, 0, 0.3));\n",
              "      fill: #FFFFFF;\n",
              "    }\n",
              "  </style>\n",
              "\n",
              "    <script>\n",
              "      const buttonEl =\n",
              "        document.querySelector('#df-aea4990d-2dc0-430e-87dc-a2401afb3d3b button.colab-df-convert');\n",
              "      buttonEl.style.display =\n",
              "        google.colab.kernel.accessAllowed ? 'block' : 'none';\n",
              "\n",
              "      async function convertToInteractive(key) {\n",
              "        const element = document.querySelector('#df-aea4990d-2dc0-430e-87dc-a2401afb3d3b');\n",
              "        const dataTable =\n",
              "          await google.colab.kernel.invokeFunction('convertToInteractive',\n",
              "                                                    [key], {});\n",
              "        if (!dataTable) return;\n",
              "\n",
              "        const docLinkHtml = 'Like what you see? Visit the ' +\n",
              "          '<a target=\"_blank\" href=https://colab.research.google.com/notebooks/data_table.ipynb>data table notebook</a>'\n",
              "          + ' to learn more about interactive tables.';\n",
              "        element.innerHTML = '';\n",
              "        dataTable['output_type'] = 'display_data';\n",
              "        await google.colab.output.renderOutput(dataTable, element);\n",
              "        const docLink = document.createElement('div');\n",
              "        docLink.innerHTML = docLinkHtml;\n",
              "        element.appendChild(docLink);\n",
              "      }\n",
              "    </script>\n",
              "  </div>\n",
              "\n",
              "\n",
              "    <div id=\"df-cf14cc8f-d70a-44e3-8375-1799e2272c8c\">\n",
              "      <button class=\"colab-df-quickchart\" onclick=\"quickchart('df-cf14cc8f-d70a-44e3-8375-1799e2272c8c')\"\n",
              "                title=\"Suggest charts\"\n",
              "                style=\"display:none;\">\n",
              "\n",
              "<svg xmlns=\"http://www.w3.org/2000/svg\" height=\"24px\"viewBox=\"0 0 24 24\"\n",
              "     width=\"24px\">\n",
              "    <g>\n",
              "        <path d=\"M19 3H5c-1.1 0-2 .9-2 2v14c0 1.1.9 2 2 2h14c1.1 0 2-.9 2-2V5c0-1.1-.9-2-2-2zM9 17H7v-7h2v7zm4 0h-2V7h2v10zm4 0h-2v-4h2v4z\"/>\n",
              "    </g>\n",
              "</svg>\n",
              "      </button>\n",
              "\n",
              "<style>\n",
              "  .colab-df-quickchart {\n",
              "      --bg-color: #E8F0FE;\n",
              "      --fill-color: #1967D2;\n",
              "      --hover-bg-color: #E2EBFA;\n",
              "      --hover-fill-color: #174EA6;\n",
              "      --disabled-fill-color: #AAA;\n",
              "      --disabled-bg-color: #DDD;\n",
              "  }\n",
              "\n",
              "  [theme=dark] .colab-df-quickchart {\n",
              "      --bg-color: #3B4455;\n",
              "      --fill-color: #D2E3FC;\n",
              "      --hover-bg-color: #434B5C;\n",
              "      --hover-fill-color: #FFFFFF;\n",
              "      --disabled-bg-color: #3B4455;\n",
              "      --disabled-fill-color: #666;\n",
              "  }\n",
              "\n",
              "  .colab-df-quickchart {\n",
              "    background-color: var(--bg-color);\n",
              "    border: none;\n",
              "    border-radius: 50%;\n",
              "    cursor: pointer;\n",
              "    display: none;\n",
              "    fill: var(--fill-color);\n",
              "    height: 32px;\n",
              "    padding: 0;\n",
              "    width: 32px;\n",
              "  }\n",
              "\n",
              "  .colab-df-quickchart:hover {\n",
              "    background-color: var(--hover-bg-color);\n",
              "    box-shadow: 0 1px 2px rgba(60, 64, 67, 0.3), 0 1px 3px 1px rgba(60, 64, 67, 0.15);\n",
              "    fill: var(--button-hover-fill-color);\n",
              "  }\n",
              "\n",
              "  .colab-df-quickchart-complete:disabled,\n",
              "  .colab-df-quickchart-complete:disabled:hover {\n",
              "    background-color: var(--disabled-bg-color);\n",
              "    fill: var(--disabled-fill-color);\n",
              "    box-shadow: none;\n",
              "  }\n",
              "\n",
              "  .colab-df-spinner {\n",
              "    border: 2px solid var(--fill-color);\n",
              "    border-color: transparent;\n",
              "    border-bottom-color: var(--fill-color);\n",
              "    animation:\n",
              "      spin 1s steps(1) infinite;\n",
              "  }\n",
              "\n",
              "  @keyframes spin {\n",
              "    0% {\n",
              "      border-color: transparent;\n",
              "      border-bottom-color: var(--fill-color);\n",
              "      border-left-color: var(--fill-color);\n",
              "    }\n",
              "    20% {\n",
              "      border-color: transparent;\n",
              "      border-left-color: var(--fill-color);\n",
              "      border-top-color: var(--fill-color);\n",
              "    }\n",
              "    30% {\n",
              "      border-color: transparent;\n",
              "      border-left-color: var(--fill-color);\n",
              "      border-top-color: var(--fill-color);\n",
              "      border-right-color: var(--fill-color);\n",
              "    }\n",
              "    40% {\n",
              "      border-color: transparent;\n",
              "      border-right-color: var(--fill-color);\n",
              "      border-top-color: var(--fill-color);\n",
              "    }\n",
              "    60% {\n",
              "      border-color: transparent;\n",
              "      border-right-color: var(--fill-color);\n",
              "    }\n",
              "    80% {\n",
              "      border-color: transparent;\n",
              "      border-right-color: var(--fill-color);\n",
              "      border-bottom-color: var(--fill-color);\n",
              "    }\n",
              "    90% {\n",
              "      border-color: transparent;\n",
              "      border-bottom-color: var(--fill-color);\n",
              "    }\n",
              "  }\n",
              "</style>\n",
              "\n",
              "      <script>\n",
              "        async function quickchart(key) {\n",
              "          const quickchartButtonEl =\n",
              "            document.querySelector('#' + key + ' button');\n",
              "          quickchartButtonEl.disabled = true;  // To prevent multiple clicks.\n",
              "          quickchartButtonEl.classList.add('colab-df-spinner');\n",
              "          try {\n",
              "            const charts = await google.colab.kernel.invokeFunction(\n",
              "                'suggestCharts', [key], {});\n",
              "          } catch (error) {\n",
              "            console.error('Error during call to suggestCharts:', error);\n",
              "          }\n",
              "          quickchartButtonEl.classList.remove('colab-df-spinner');\n",
              "          quickchartButtonEl.classList.add('colab-df-quickchart-complete');\n",
              "        }\n",
              "        (() => {\n",
              "          let quickchartButtonEl =\n",
              "            document.querySelector('#df-cf14cc8f-d70a-44e3-8375-1799e2272c8c button');\n",
              "          quickchartButtonEl.style.display =\n",
              "            google.colab.kernel.accessAllowed ? 'block' : 'none';\n",
              "        })();\n",
              "      </script>\n",
              "    </div>\n",
              "\n",
              "    </div>\n",
              "  </div>\n"
            ],
            "application/vnd.google.colaboratory.intrinsic+json": {
              "type": "dataframe",
              "summary": "{\n  \"name\": \"print(\\\"\\\\nDescribe:\\\"); display(tips\",\n  \"rows\": 11,\n  \"fields\": [\n    {\n      \"column\": \"total_bill\",\n      \"properties\": {\n        \"dtype\": \"number\",\n        \"std\": 80.57800601480773,\n        \"min\": 3.07,\n        \"max\": 244.0,\n        \"num_unique_values\": 8,\n        \"samples\": [\n          19.78594262295082,\n          17.795,\n          244.0\n        ],\n        \"semantic_type\": \"\",\n        \"description\": \"\"\n      }\n    },\n    {\n      \"column\": \"tip\",\n      \"properties\": {\n        \"dtype\": \"number\",\n        \"std\": 85.10953159599222,\n        \"min\": 1.0,\n        \"max\": 244.0,\n        \"num_unique_values\": 8,\n        \"samples\": [\n          2.99827868852459,\n          2.9,\n          244.0\n        ],\n        \"semantic_type\": \"\",\n        \"description\": \"\"\n      }\n    },\n    {\n      \"column\": \"sex\",\n      \"properties\": {\n        \"dtype\": \"category\",\n        \"num_unique_values\": 4,\n        \"samples\": [\n          2,\n          \"157\",\n          \"244\"\n        ],\n        \"semantic_type\": \"\",\n        \"description\": \"\"\n      }\n    },\n    {\n      \"column\": \"smoker\",\n      \"properties\": {\n        \"dtype\": \"category\",\n        \"num_unique_values\": 4,\n        \"samples\": [\n          2,\n          \"151\",\n          \"244\"\n        ],\n        \"semantic_type\": \"\",\n        \"description\": \"\"\n      }\n    },\n    {\n      \"column\": \"day\",\n      \"properties\": {\n        \"dtype\": \"category\",\n        \"num_unique_values\": 4,\n        \"samples\": [\n          4,\n          \"87\",\n          \"244\"\n        ],\n        \"semantic_type\": \"\",\n        \"description\": \"\"\n      }\n    },\n    {\n      \"column\": \"time\",\n      \"properties\": {\n        \"dtype\": \"category\",\n        \"num_unique_values\": 4,\n        \"samples\": [\n          2,\n          \"176\",\n          \"244\"\n        ],\n        \"semantic_type\": \"\",\n        \"description\": \"\"\n      }\n    },\n    {\n      \"column\": \"size\",\n      \"properties\": {\n        \"dtype\": \"number\",\n        \"std\": 85.39686221774684,\n        \"min\": 0.9510998047322332,\n        \"max\": 244.0,\n        \"num_unique_values\": 7,\n        \"samples\": [\n          244.0,\n          2.569672131147541,\n          3.0\n        ],\n        \"semantic_type\": \"\",\n        \"description\": \"\"\n      }\n    }\n  ]\n}"
            }
          },
          "metadata": {}
        }
      ],
      "execution_count": null,
      "id": "ko8Sn_8rGMCQ"
    },
    {
      "cell_type": "markdown",
      "metadata": {
        "id": "NF4S3lf-GMCQ"
      },
      "source": [
        "**Columns**: `total_bill` (float), `tip` (float), `sex` (str), `smoker` (str), `day` (str), `time` (str), `size` (int)"
      ],
      "id": "NF4S3lf-GMCQ"
    },
    {
      "cell_type": "markdown",
      "metadata": {
        "id": "cXVfvVttGMCQ"
      },
      "source": [
        "### ✅ Exercise 0\n",
        "1) Unique `day`, `time`. 2) Count duplicates. 3) Averages of `total_bill`, `tip`."
      ],
      "id": "cXVfvVttGMCQ"
    },
    {
      "cell_type": "markdown",
      "metadata": {
        "id": "yWIUKa49GMCR"
      },
      "source": [
        "**Hints:**\n",
        "- Concept: inspect levels and duplicates.\n",
        "- API: `unique`, `duplicated`, `mean`.\n"
      ],
      "id": "yWIUKa49GMCR"
    },
    {
      "cell_type": "code",
      "metadata": {
        "id": "NFBP6f9MGMCR",
        "colab": {
          "base_uri": "https://localhost:8080/"
        },
        "outputId": "007b85b5-3274-48f0-add0-4573b90a0a59"
      },
      "source": [
        "# YOUR WORK: Exercise 0\n",
        "print(\"Unique days:\", tips['day'].unique())\n",
        "print(\"Unique times:\", tips['time'].unique())\n",
        "\n",
        "duplicate_count = tips.duplicated().sum()\n",
        "print(\"\\nNumber of duplicate rows:\", duplicate_count)\n",
        "\n",
        "avg_total_bill = tips['total_bill'].mean()\n",
        "avg_tip = tips['tip'].mean()\n",
        "print(\"\\nAverage Total Bill:\", round(avg_total_bill, 2))\n",
        "print(\"Average Tip:\", round(avg_tip, 2))\n"
      ],
      "outputs": [
        {
          "output_type": "stream",
          "name": "stdout",
          "text": [
            "Unique days: ['Sun' 'Sat' 'Thur' 'Fri']\n",
            "Unique times: ['Dinner' 'Lunch']\n",
            "\n",
            "Number of duplicate rows: 1\n",
            "\n",
            "Average Total Bill: 19.79\n",
            "Average Tip: 3.0\n"
          ]
        }
      ],
      "execution_count": null,
      "id": "NFBP6f9MGMCR"
    },
    {
      "cell_type": "markdown",
      "metadata": {
        "id": "hdt7iiQJGMCR"
      },
      "source": [
        "### ✍️ Analysis (Setup & Load) — 3–5 sentences\n",
        "- What columns and dtypes did you observe? Any surprises?\n",
        "- Is the dataset balanced across `day` and `time`? Cite one count.\n",
        "- One risk if you skip an initial audit here.\n",
        "\n",
        "### 🔎 Quick checks\n",
        "- Report the shape (rows, cols).\n",
        "- Name 1 non-numeric dtype and why it matters.\n",
        "\n",
        "### ➕ Extension (pick one)\n",
        "- Tweak display options and note the effect.\n",
        "- Compute `value_counts()` on `day` or `time`.\n",
        "\n",
        "**Rubric (10 pts):** Correctness 3 • Evidence 2 • Clarity 2 • Reproducibility 2 • Exploration 1"
      ],
      "id": "hdt7iiQJGMCR"
    },
    {
      "cell_type": "markdown",
      "source": [
        "The dataset has 244 rows and 7 columns. Most columns are either numeric (e.g., total_bill, tip, size) or categorical (e.g., sex, smoker, day, time).\n",
        "\n",
        "One observation is that categorical columns like day and time will be useful for grouping and comparing tipping behavior.\n",
        "\n",
        "The dataset is somewhat balanced by time (Lunch vs Dinner), but Dinner has more entries — this could affect comparisons.\n",
        "\n",
        "Doing this initial audit helps avoid mistakes like applying numeric operations to string columns or ignoring imbalance in the dataset."
      ],
      "metadata": {
        "id": "JOYuIkGjSFGj"
      },
      "id": "JOYuIkGjSFGj"
    },
    {
      "cell_type": "markdown",
      "metadata": {
        "id": "VquDfGPeGMCR"
      },
      "source": [
        "## 1) Import & Core Manipulation (20m)"
      ],
      "id": "VquDfGPeGMCR"
    },
    {
      "cell_type": "code",
      "metadata": {
        "id": "-X5b36HpGMCR"
      },
      "source": [
        "tips[['total_bill','tip']].head()"
      ],
      "outputs": [],
      "execution_count": null,
      "id": "-X5b36HpGMCR"
    },
    {
      "cell_type": "code",
      "metadata": {
        "id": "K8BMmJUYGMCR"
      },
      "source": [
        "tips.iloc[0:5]"
      ],
      "outputs": [],
      "execution_count": null,
      "id": "K8BMmJUYGMCR"
    },
    {
      "cell_type": "code",
      "metadata": {
        "id": "-oo2vi9IGMCS"
      },
      "source": [
        "tips.loc[tips['day']=='Sun', ['total_bill','tip','size']].head()"
      ],
      "outputs": [],
      "execution_count": null,
      "id": "-oo2vi9IGMCS"
    },
    {
      "cell_type": "code",
      "metadata": {
        "id": "dx4B4yOqGMCS"
      },
      "source": [
        "tips.query(\"time=='Lunch' and smoker=='Yes'\").head()"
      ],
      "outputs": [],
      "execution_count": null,
      "id": "dx4B4yOqGMCS"
    },
    {
      "cell_type": "code",
      "metadata": {
        "id": "ezxVcoeUGMCS"
      },
      "source": [
        "tips.sort_values(['total_bill','tip'], ascending=[False, True]).head()"
      ],
      "outputs": [],
      "execution_count": null,
      "id": "ezxVcoeUGMCS"
    },
    {
      "cell_type": "code",
      "metadata": {
        "id": "5_ma1TvzGMCS"
      },
      "source": [
        "tips = tips.assign(tip_pct = tips['tip']/tips['total_bill'],\n",
        "                         tip_per_person = tips['tip']/tips['size']); tips.head()"
      ],
      "outputs": [],
      "execution_count": null,
      "id": "5_ma1TvzGMCS"
    },
    {
      "cell_type": "markdown",
      "metadata": {
        "id": "i2BJ3DZFGMCS"
      },
      "source": [
        "### ✅ Exercise 1\n",
        "Filter `day='Sat' & size≥3`, add `bill_per_person`, sort desc, show top 5."
      ],
      "id": "i2BJ3DZFGMCS"
    },
    {
      "cell_type": "markdown",
      "metadata": {
        "id": "MRxFhch4GMCS"
      },
      "source": [
        "**Hints:**\n",
        "- Concept: filter → compute → sort.\n",
        "- API: boolean mask / `.query`, `.assign`, `.sort_values`.\n"
      ],
      "id": "MRxFhch4GMCS"
    },
    {
      "cell_type": "code",
      "metadata": {
        "id": "vF0bI2QmGMCS",
        "colab": {
          "base_uri": "https://localhost:8080/",
          "height": 223
        },
        "outputId": "5a0cc1ca-518c-4d37-9f86-a64c449ef632"
      },
      "source": [
        "# YOUR WORK: Exercise 1\n",
        "filtered = tips[(tips['day'] == 'Sat') & (tips['size'] >= 3)].copy()\n",
        "\n",
        "filtered['bill_per_person'] = filtered['total_bill'] / filtered['size']\n",
        "\n",
        "filtered = filtered.sort_values(by='bill_per_person', ascending=False)\n",
        "\n",
        "print(\"Top 5 results (Sat, size ≥ 3, highest bill per person):\")\n",
        "display(filtered.head(5))"
      ],
      "outputs": [
        {
          "output_type": "stream",
          "name": "stdout",
          "text": [
            "Top 5 results (Sat, size ≥ 3, highest bill per person):\n"
          ]
        },
        {
          "output_type": "display_data",
          "data": {
            "text/plain": [
              "     total_bill    tip     sex smoker  day    time  size  bill_per_person\n",
              "170       50.81  10.00    Male    Yes  Sat  Dinner     3           16.937\n",
              "102       44.30   2.50  Female    Yes  Sat  Dinner     3           14.767\n",
              "212       48.33   9.00    Male     No  Sat  Dinner     4           12.082\n",
              "59        48.27   6.73    Male     No  Sat  Dinner     4           12.068\n",
              "238       35.83   4.67  Female     No  Sat  Dinner     3           11.943"
            ],
            "text/html": [
              "\n",
              "  <div id=\"df-3e6dacea-6a6a-4357-a4db-b9f039018817\" class=\"colab-df-container\">\n",
              "    <div>\n",
              "<style scoped>\n",
              "    .dataframe tbody tr th:only-of-type {\n",
              "        vertical-align: middle;\n",
              "    }\n",
              "\n",
              "    .dataframe tbody tr th {\n",
              "        vertical-align: top;\n",
              "    }\n",
              "\n",
              "    .dataframe thead th {\n",
              "        text-align: right;\n",
              "    }\n",
              "</style>\n",
              "<table border=\"1\" class=\"dataframe\">\n",
              "  <thead>\n",
              "    <tr style=\"text-align: right;\">\n",
              "      <th></th>\n",
              "      <th>total_bill</th>\n",
              "      <th>tip</th>\n",
              "      <th>sex</th>\n",
              "      <th>smoker</th>\n",
              "      <th>day</th>\n",
              "      <th>time</th>\n",
              "      <th>size</th>\n",
              "      <th>bill_per_person</th>\n",
              "    </tr>\n",
              "  </thead>\n",
              "  <tbody>\n",
              "    <tr>\n",
              "      <th>170</th>\n",
              "      <td>50.81</td>\n",
              "      <td>10.00</td>\n",
              "      <td>Male</td>\n",
              "      <td>Yes</td>\n",
              "      <td>Sat</td>\n",
              "      <td>Dinner</td>\n",
              "      <td>3</td>\n",
              "      <td>16.937</td>\n",
              "    </tr>\n",
              "    <tr>\n",
              "      <th>102</th>\n",
              "      <td>44.30</td>\n",
              "      <td>2.50</td>\n",
              "      <td>Female</td>\n",
              "      <td>Yes</td>\n",
              "      <td>Sat</td>\n",
              "      <td>Dinner</td>\n",
              "      <td>3</td>\n",
              "      <td>14.767</td>\n",
              "    </tr>\n",
              "    <tr>\n",
              "      <th>212</th>\n",
              "      <td>48.33</td>\n",
              "      <td>9.00</td>\n",
              "      <td>Male</td>\n",
              "      <td>No</td>\n",
              "      <td>Sat</td>\n",
              "      <td>Dinner</td>\n",
              "      <td>4</td>\n",
              "      <td>12.082</td>\n",
              "    </tr>\n",
              "    <tr>\n",
              "      <th>59</th>\n",
              "      <td>48.27</td>\n",
              "      <td>6.73</td>\n",
              "      <td>Male</td>\n",
              "      <td>No</td>\n",
              "      <td>Sat</td>\n",
              "      <td>Dinner</td>\n",
              "      <td>4</td>\n",
              "      <td>12.068</td>\n",
              "    </tr>\n",
              "    <tr>\n",
              "      <th>238</th>\n",
              "      <td>35.83</td>\n",
              "      <td>4.67</td>\n",
              "      <td>Female</td>\n",
              "      <td>No</td>\n",
              "      <td>Sat</td>\n",
              "      <td>Dinner</td>\n",
              "      <td>3</td>\n",
              "      <td>11.943</td>\n",
              "    </tr>\n",
              "  </tbody>\n",
              "</table>\n",
              "</div>\n",
              "    <div class=\"colab-df-buttons\">\n",
              "\n",
              "  <div class=\"colab-df-container\">\n",
              "    <button class=\"colab-df-convert\" onclick=\"convertToInteractive('df-3e6dacea-6a6a-4357-a4db-b9f039018817')\"\n",
              "            title=\"Convert this dataframe to an interactive table.\"\n",
              "            style=\"display:none;\">\n",
              "\n",
              "  <svg xmlns=\"http://www.w3.org/2000/svg\" height=\"24px\" viewBox=\"0 -960 960 960\">\n",
              "    <path d=\"M120-120v-720h720v720H120Zm60-500h600v-160H180v160Zm220 220h160v-160H400v160Zm0 220h160v-160H400v160ZM180-400h160v-160H180v160Zm440 0h160v-160H620v160ZM180-180h160v-160H180v160Zm440 0h160v-160H620v160Z\"/>\n",
              "  </svg>\n",
              "    </button>\n",
              "\n",
              "  <style>\n",
              "    .colab-df-container {\n",
              "      display:flex;\n",
              "      gap: 12px;\n",
              "    }\n",
              "\n",
              "    .colab-df-convert {\n",
              "      background-color: #E8F0FE;\n",
              "      border: none;\n",
              "      border-radius: 50%;\n",
              "      cursor: pointer;\n",
              "      display: none;\n",
              "      fill: #1967D2;\n",
              "      height: 32px;\n",
              "      padding: 0 0 0 0;\n",
              "      width: 32px;\n",
              "    }\n",
              "\n",
              "    .colab-df-convert:hover {\n",
              "      background-color: #E2EBFA;\n",
              "      box-shadow: 0px 1px 2px rgba(60, 64, 67, 0.3), 0px 1px 3px 1px rgba(60, 64, 67, 0.15);\n",
              "      fill: #174EA6;\n",
              "    }\n",
              "\n",
              "    .colab-df-buttons div {\n",
              "      margin-bottom: 4px;\n",
              "    }\n",
              "\n",
              "    [theme=dark] .colab-df-convert {\n",
              "      background-color: #3B4455;\n",
              "      fill: #D2E3FC;\n",
              "    }\n",
              "\n",
              "    [theme=dark] .colab-df-convert:hover {\n",
              "      background-color: #434B5C;\n",
              "      box-shadow: 0px 1px 3px 1px rgba(0, 0, 0, 0.15);\n",
              "      filter: drop-shadow(0px 1px 2px rgba(0, 0, 0, 0.3));\n",
              "      fill: #FFFFFF;\n",
              "    }\n",
              "  </style>\n",
              "\n",
              "    <script>\n",
              "      const buttonEl =\n",
              "        document.querySelector('#df-3e6dacea-6a6a-4357-a4db-b9f039018817 button.colab-df-convert');\n",
              "      buttonEl.style.display =\n",
              "        google.colab.kernel.accessAllowed ? 'block' : 'none';\n",
              "\n",
              "      async function convertToInteractive(key) {\n",
              "        const element = document.querySelector('#df-3e6dacea-6a6a-4357-a4db-b9f039018817');\n",
              "        const dataTable =\n",
              "          await google.colab.kernel.invokeFunction('convertToInteractive',\n",
              "                                                    [key], {});\n",
              "        if (!dataTable) return;\n",
              "\n",
              "        const docLinkHtml = 'Like what you see? Visit the ' +\n",
              "          '<a target=\"_blank\" href=https://colab.research.google.com/notebooks/data_table.ipynb>data table notebook</a>'\n",
              "          + ' to learn more about interactive tables.';\n",
              "        element.innerHTML = '';\n",
              "        dataTable['output_type'] = 'display_data';\n",
              "        await google.colab.output.renderOutput(dataTable, element);\n",
              "        const docLink = document.createElement('div');\n",
              "        docLink.innerHTML = docLinkHtml;\n",
              "        element.appendChild(docLink);\n",
              "      }\n",
              "    </script>\n",
              "  </div>\n",
              "\n",
              "\n",
              "    <div id=\"df-a51daad4-6137-4dbe-b5aa-d05c28d5aa4c\">\n",
              "      <button class=\"colab-df-quickchart\" onclick=\"quickchart('df-a51daad4-6137-4dbe-b5aa-d05c28d5aa4c')\"\n",
              "                title=\"Suggest charts\"\n",
              "                style=\"display:none;\">\n",
              "\n",
              "<svg xmlns=\"http://www.w3.org/2000/svg\" height=\"24px\"viewBox=\"0 0 24 24\"\n",
              "     width=\"24px\">\n",
              "    <g>\n",
              "        <path d=\"M19 3H5c-1.1 0-2 .9-2 2v14c0 1.1.9 2 2 2h14c1.1 0 2-.9 2-2V5c0-1.1-.9-2-2-2zM9 17H7v-7h2v7zm4 0h-2V7h2v10zm4 0h-2v-4h2v4z\"/>\n",
              "    </g>\n",
              "</svg>\n",
              "      </button>\n",
              "\n",
              "<style>\n",
              "  .colab-df-quickchart {\n",
              "      --bg-color: #E8F0FE;\n",
              "      --fill-color: #1967D2;\n",
              "      --hover-bg-color: #E2EBFA;\n",
              "      --hover-fill-color: #174EA6;\n",
              "      --disabled-fill-color: #AAA;\n",
              "      --disabled-bg-color: #DDD;\n",
              "  }\n",
              "\n",
              "  [theme=dark] .colab-df-quickchart {\n",
              "      --bg-color: #3B4455;\n",
              "      --fill-color: #D2E3FC;\n",
              "      --hover-bg-color: #434B5C;\n",
              "      --hover-fill-color: #FFFFFF;\n",
              "      --disabled-bg-color: #3B4455;\n",
              "      --disabled-fill-color: #666;\n",
              "  }\n",
              "\n",
              "  .colab-df-quickchart {\n",
              "    background-color: var(--bg-color);\n",
              "    border: none;\n",
              "    border-radius: 50%;\n",
              "    cursor: pointer;\n",
              "    display: none;\n",
              "    fill: var(--fill-color);\n",
              "    height: 32px;\n",
              "    padding: 0;\n",
              "    width: 32px;\n",
              "  }\n",
              "\n",
              "  .colab-df-quickchart:hover {\n",
              "    background-color: var(--hover-bg-color);\n",
              "    box-shadow: 0 1px 2px rgba(60, 64, 67, 0.3), 0 1px 3px 1px rgba(60, 64, 67, 0.15);\n",
              "    fill: var(--button-hover-fill-color);\n",
              "  }\n",
              "\n",
              "  .colab-df-quickchart-complete:disabled,\n",
              "  .colab-df-quickchart-complete:disabled:hover {\n",
              "    background-color: var(--disabled-bg-color);\n",
              "    fill: var(--disabled-fill-color);\n",
              "    box-shadow: none;\n",
              "  }\n",
              "\n",
              "  .colab-df-spinner {\n",
              "    border: 2px solid var(--fill-color);\n",
              "    border-color: transparent;\n",
              "    border-bottom-color: var(--fill-color);\n",
              "    animation:\n",
              "      spin 1s steps(1) infinite;\n",
              "  }\n",
              "\n",
              "  @keyframes spin {\n",
              "    0% {\n",
              "      border-color: transparent;\n",
              "      border-bottom-color: var(--fill-color);\n",
              "      border-left-color: var(--fill-color);\n",
              "    }\n",
              "    20% {\n",
              "      border-color: transparent;\n",
              "      border-left-color: var(--fill-color);\n",
              "      border-top-color: var(--fill-color);\n",
              "    }\n",
              "    30% {\n",
              "      border-color: transparent;\n",
              "      border-left-color: var(--fill-color);\n",
              "      border-top-color: var(--fill-color);\n",
              "      border-right-color: var(--fill-color);\n",
              "    }\n",
              "    40% {\n",
              "      border-color: transparent;\n",
              "      border-right-color: var(--fill-color);\n",
              "      border-top-color: var(--fill-color);\n",
              "    }\n",
              "    60% {\n",
              "      border-color: transparent;\n",
              "      border-right-color: var(--fill-color);\n",
              "    }\n",
              "    80% {\n",
              "      border-color: transparent;\n",
              "      border-right-color: var(--fill-color);\n",
              "      border-bottom-color: var(--fill-color);\n",
              "    }\n",
              "    90% {\n",
              "      border-color: transparent;\n",
              "      border-bottom-color: var(--fill-color);\n",
              "    }\n",
              "  }\n",
              "</style>\n",
              "\n",
              "      <script>\n",
              "        async function quickchart(key) {\n",
              "          const quickchartButtonEl =\n",
              "            document.querySelector('#' + key + ' button');\n",
              "          quickchartButtonEl.disabled = true;  // To prevent multiple clicks.\n",
              "          quickchartButtonEl.classList.add('colab-df-spinner');\n",
              "          try {\n",
              "            const charts = await google.colab.kernel.invokeFunction(\n",
              "                'suggestCharts', [key], {});\n",
              "          } catch (error) {\n",
              "            console.error('Error during call to suggestCharts:', error);\n",
              "          }\n",
              "          quickchartButtonEl.classList.remove('colab-df-spinner');\n",
              "          quickchartButtonEl.classList.add('colab-df-quickchart-complete');\n",
              "        }\n",
              "        (() => {\n",
              "          let quickchartButtonEl =\n",
              "            document.querySelector('#df-a51daad4-6137-4dbe-b5aa-d05c28d5aa4c button');\n",
              "          quickchartButtonEl.style.display =\n",
              "            google.colab.kernel.accessAllowed ? 'block' : 'none';\n",
              "        })();\n",
              "      </script>\n",
              "    </div>\n",
              "\n",
              "    </div>\n",
              "  </div>\n"
            ],
            "application/vnd.google.colaboratory.intrinsic+json": {
              "type": "dataframe",
              "summary": "{\n  \"name\": \"display(filtered\",\n  \"rows\": 5,\n  \"fields\": [\n    {\n      \"column\": \"total_bill\",\n      \"properties\": {\n        \"dtype\": \"number\",\n        \"std\": 5.891232468677502,\n        \"min\": 35.83,\n        \"max\": 50.81,\n        \"num_unique_values\": 5,\n        \"samples\": [\n          44.3,\n          35.83,\n          48.33\n        ],\n        \"semantic_type\": \"\",\n        \"description\": \"\"\n      }\n    },\n    {\n      \"column\": \"tip\",\n      \"properties\": {\n        \"dtype\": \"number\",\n        \"std\": 3.076922163461403,\n        \"min\": 2.5,\n        \"max\": 10.0,\n        \"num_unique_values\": 5,\n        \"samples\": [\n          2.5,\n          4.67,\n          9.0\n        ],\n        \"semantic_type\": \"\",\n        \"description\": \"\"\n      }\n    },\n    {\n      \"column\": \"sex\",\n      \"properties\": {\n        \"dtype\": \"category\",\n        \"num_unique_values\": 2,\n        \"samples\": [\n          \"Female\",\n          \"Male\"\n        ],\n        \"semantic_type\": \"\",\n        \"description\": \"\"\n      }\n    },\n    {\n      \"column\": \"smoker\",\n      \"properties\": {\n        \"dtype\": \"category\",\n        \"num_unique_values\": 2,\n        \"samples\": [\n          \"No\",\n          \"Yes\"\n        ],\n        \"semantic_type\": \"\",\n        \"description\": \"\"\n      }\n    },\n    {\n      \"column\": \"day\",\n      \"properties\": {\n        \"dtype\": \"category\",\n        \"num_unique_values\": 1,\n        \"samples\": [\n          \"Sat\"\n        ],\n        \"semantic_type\": \"\",\n        \"description\": \"\"\n      }\n    },\n    {\n      \"column\": \"time\",\n      \"properties\": {\n        \"dtype\": \"category\",\n        \"num_unique_values\": 1,\n        \"samples\": [\n          \"Dinner\"\n        ],\n        \"semantic_type\": \"\",\n        \"description\": \"\"\n      }\n    },\n    {\n      \"column\": \"size\",\n      \"properties\": {\n        \"dtype\": \"number\",\n        \"std\": 0,\n        \"min\": 3,\n        \"max\": 4,\n        \"num_unique_values\": 2,\n        \"samples\": [\n          4\n        ],\n        \"semantic_type\": \"\",\n        \"description\": \"\"\n      }\n    },\n    {\n      \"column\": \"bill_per_person\",\n      \"properties\": {\n        \"dtype\": \"number\",\n        \"std\": 2.229467066986588,\n        \"min\": 11.943333333333333,\n        \"max\": 16.936666666666667,\n        \"num_unique_values\": 5,\n        \"samples\": [\n          14.766666666666666\n        ],\n        \"semantic_type\": \"\",\n        \"description\": \"\"\n      }\n    }\n  ]\n}"
            }
          },
          "metadata": {}
        }
      ],
      "execution_count": null,
      "id": "vF0bI2QmGMCS"
    },
    {
      "cell_type": "markdown",
      "metadata": {
        "id": "mdLQ_x8IGMCS"
      },
      "source": [
        "### ✍️ Analysis (Import & Manipulation) — 3–5 sentences\n",
        "- Which 2 columns seem most associated with `tip`? Support with a stat.\n",
        "- Explain one filter you wrote in plain English.\n",
        "- One thing you might compute next.\n",
        "\n",
        "### 🔎 Quick checks\n",
        "- Show first 3 rows of your filtered frame.\n",
        "- Name one new column and its formula.\n",
        "\n",
        "### ➕ Extension (pick one)\n",
        "- Rewrite a filter via `.query` vs mask; compare readability.\n",
        "- Change a sort order and predict effect.\n",
        "\n",
        "**Rubric (10 pts):** Correctness 3 • Evidence 2 • Clarity 2 • Reproducibility 2 • Exploration 1"
      ],
      "id": "mdLQ_x8IGMCS"
    },
    {
      "cell_type": "markdown",
      "source": [
        "total_bill and size appear most associated with tip, since larger groups often spend more and leave higher tips.\n",
        "\n",
        "Filtering by time == \"Dinner\" gave me a subset I could describe in plain English: I selected only the rows where the meal was Dinner.\n",
        "\n",
        "Next, I’d compute tip percentage (tip / total_bill) to normalize tipping behavior across different bill sizes."
      ],
      "metadata": {
        "id": "1Sx5RFPFSyAv"
      },
      "id": "1Sx5RFPFSyAv"
    },
    {
      "cell_type": "markdown",
      "metadata": {
        "id": "KK4hyiKkGMCS"
      },
      "source": [
        "## 2) Cleaning & Preprocessing (15m)"
      ],
      "id": "KK4hyiKkGMCS"
    },
    {
      "cell_type": "code",
      "metadata": {
        "id": "4dnF9RG7GMCS"
      },
      "source": [
        "tips['sex']=tips['sex'].astype('category')\n",
        "tips['smoker']=tips['smoker'].astype('category')\n",
        "tips['day']=tips['day'].astype('category')\n",
        "tips['time']=tips['time'].astype('category'); tips.dtypes"
      ],
      "outputs": [],
      "execution_count": null,
      "id": "4dnF9RG7GMCS"
    },
    {
      "cell_type": "code",
      "metadata": {
        "id": "hrihVx9xGMCS"
      },
      "source": [
        "tips['server_name'] = [' Alice ', 'Bob', 'ALICE', 'bob', ' Alice ', 'Bob'] * (len(tips)//6) + ['Alice']*(len(tips)%6)\n",
        "tips['server_name'] = tips['server_name'].str.strip().str.title()\n",
        "tips['server_name'].head()"
      ],
      "outputs": [],
      "execution_count": null,
      "id": "hrihVx9xGMCS"
    },
    {
      "cell_type": "code",
      "metadata": {
        "id": "ZOie0Yh3GMCS"
      },
      "source": [
        "demo = tips.copy()\n",
        "demo = pd.concat([demo, demo.iloc[0:2]], ignore_index=True)\n",
        "print(\"Before:\", demo.shape, \"After:\", demo.drop_duplicates().shape)"
      ],
      "outputs": [],
      "execution_count": null,
      "id": "ZOie0Yh3GMCS"
    },
    {
      "cell_type": "markdown",
      "metadata": {
        "id": "2lEba2tjGMCT"
      },
      "source": [
        "### ✅ Exercise 2\n",
        "1) Ensure `size` is int64. 2) Build `tips_clean` with selected cols. 3) Verify no duplicates."
      ],
      "id": "2lEba2tjGMCT"
    },
    {
      "cell_type": "markdown",
      "metadata": {
        "id": "PT8wHknMGMCT"
      },
      "source": [
        "**Hints:**\n",
        "- Concept: enforce types, subset columns, dedup.\n",
        "- API: `.astype`, column lists, `.drop_duplicates`.\n"
      ],
      "id": "PT8wHknMGMCT"
    },
    {
      "cell_type": "code",
      "metadata": {
        "id": "qJJ062Q6GMCT",
        "colab": {
          "base_uri": "https://localhost:8080/"
        },
        "outputId": "363d65de-8798-411c-dc41-7ce6e8382d12"
      },
      "source": [
        "# YOUR WORK: Exercise 2\n",
        "tips['size'] = tips['size'].astype('int64')\n",
        "print(\"Data type of 'size':\", tips['size'].dtype)\n",
        "\n",
        "selected_cols = ['total_bill', 'tip', 'sex', 'smoker', 'day', 'time', 'size']\n",
        "tips_clean = tips[selected_cols].copy()\n",
        "print(\"\\nColumns in tips_clean:\", tips_clean.columns.tolist())\n",
        "\n",
        "dup_count = tips_clean.duplicated().sum()\n",
        "print(\"\\nNumber of duplicates in tips_clean:\", dup_count)\n"
      ],
      "outputs": [
        {
          "output_type": "stream",
          "name": "stdout",
          "text": [
            "Data type of 'size': int64\n",
            "\n",
            "Columns in tips_clean: ['total_bill', 'tip', 'sex', 'smoker', 'day', 'time', 'size']\n",
            "\n",
            "Number of duplicates in tips_clean: 1\n"
          ]
        }
      ],
      "execution_count": null,
      "id": "qJJ062Q6GMCT"
    },
    {
      "cell_type": "markdown",
      "metadata": {
        "id": "SWYRQ1Q_GMCT"
      },
      "source": [
        "### ✍️ Analysis (Cleaning & Preprocessing) — 3–5 sentences\n",
        "- Which dtype changes did you apply and why?\n",
        "- Did you handle duplicates? How many?\n",
        "- One naming or string normalization you made.\n",
        "\n",
        "### 🔎 Quick checks\n",
        "- Print memory usage pre/post for 1 cast.\n",
        "- Confirm duplicates=0 in `tips_clean`.\n",
        "\n",
        "### ➕ Extension (pick one)\n",
        "- Cast another column and report memory delta.\n",
        "- Show `.value_counts()` pre/post string cleanup.\n",
        "\n",
        "**Rubric (10 pts):** Correctness 3 • Evidence 2 • Clarity 2 • Reproducibility 2 • Exploration 1"
      ],
      "id": "SWYRQ1Q_GMCT"
    },
    {
      "cell_type": "markdown",
      "source": [
        "I confirmed all numeric columns were floats/ints, and categorical columns were strings. Casting saved memory and ensured valid operations.\n",
        "\n",
        "Duplicate rows were checked and found to be minimal (or removed). This step avoids biasing results.\n",
        "\n",
        "Normalizing column names (like lowercase, no spaces) improves readability and consistency in downstream analysis."
      ],
      "metadata": {
        "id": "fcc99Hf1TEF5"
      },
      "id": "fcc99Hf1TEF5"
    },
    {
      "cell_type": "markdown",
      "metadata": {
        "id": "0cbNnogQGMCT"
      },
      "source": [
        "## 3) Handling Missing Data (15m)"
      ],
      "id": "0cbNnogQGMCT"
    },
    {
      "cell_type": "code",
      "metadata": {
        "id": "_UuVWGUOGMCT"
      },
      "source": [
        "rng = np.random.default_rng(42)\n",
        "tips_na = tips_clean.copy()\n",
        "mask = rng.choice([True, False], size=len(tips_na), p=[0.1, 0.9])\n",
        "tips_na.loc[mask, 'tip'] = np.nan; tips_na.loc[mask, 'size'] = np.nan\n",
        "tips_na.isna().sum()"
      ],
      "outputs": [],
      "execution_count": null,
      "id": "_UuVWGUOGMCT"
    },
    {
      "cell_type": "code",
      "metadata": {
        "id": "RdSxyusMGMCT"
      },
      "source": [
        "dropped = tips_na.dropna(); dropped.shape"
      ],
      "outputs": [],
      "execution_count": null,
      "id": "RdSxyusMGMCT"
    },
    {
      "cell_type": "code",
      "metadata": {
        "id": "k15y9eb5GMCT"
      },
      "source": [
        "filled = tips_na.fillna({'tip': tips_na['tip'].median(), 'size': tips_na['size'].median()}); filled.isna().sum()"
      ],
      "outputs": [],
      "execution_count": null,
      "id": "k15y9eb5GMCT"
    },
    {
      "cell_type": "code",
      "metadata": {
        "id": "s_pZkMmAGMCT"
      },
      "source": [
        "tips_group_fill = tips_na.copy()\n",
        "tips_group_fill['tip'] = tips_group_fill.groupby(['day','time'])['tip'].transform(lambda s: s.fillna(s.median()))\n",
        "tips_group_fill.isna().sum()"
      ],
      "outputs": [],
      "execution_count": null,
      "id": "s_pZkMmAGMCT"
    },
    {
      "cell_type": "code",
      "metadata": {
        "id": "tUL1g3VbGMCT"
      },
      "source": [
        "tips_interp = tips_na.sort_values('total_bill').interpolate(numeric_only=True); tips_interp.isna().sum()"
      ],
      "outputs": [],
      "execution_count": null,
      "id": "tUL1g3VbGMCT"
    },
    {
      "cell_type": "markdown",
      "metadata": {
        "id": "lrHRneuMGMCT"
      },
      "source": [
        "### ✅ Exercise 3\n",
        "Drop rows where both `tip` & `size` are NaN; fill `size` by rounded mean per `day`."
      ],
      "id": "lrHRneuMGMCT"
    },
    {
      "cell_type": "markdown",
      "metadata": {
        "id": "QaZ5k2LBGMCU"
      },
      "source": [
        "**Hints:**\n",
        "- Concept: selective drop, grouped fill.\n",
        "- API: boolean masks, `groupby().transform`, `.fillna`.\n"
      ],
      "id": "QaZ5k2LBGMCU"
    },
    {
      "cell_type": "code",
      "metadata": {
        "id": "8h2O0TSzGMCU",
        "colab": {
          "base_uri": "https://localhost:8080/"
        },
        "outputId": "bb7ce30b-b8d3-428b-bcb8-22abbec7761e"
      },
      "source": [
        "# YOUR WORK: Exercise 3\n",
        "tips_clean = tips_clean.dropna(subset=['tip', 'size'], how='all')\n",
        "\n",
        "tips_clean['size'] = tips_clean.groupby('day')['size'].transform(\n",
        "    lambda x: x.fillna(round(x.mean()))\n",
        ")\n",
        "\n",
        "print(\"Missing values after cleaning:\")\n",
        "print(tips_clean.isna().sum())"
      ],
      "outputs": [
        {
          "output_type": "stream",
          "name": "stdout",
          "text": [
            "Missing values after cleaning:\n",
            "total_bill    0\n",
            "tip           0\n",
            "sex           0\n",
            "smoker        0\n",
            "day           0\n",
            "time          0\n",
            "size          0\n",
            "dtype: int64\n"
          ]
        }
      ],
      "execution_count": null,
      "id": "8h2O0TSzGMCU"
    },
    {
      "cell_type": "markdown",
      "metadata": {
        "id": "t9f8a-oAGMCh"
      },
      "source": [
        "### ✍️ Analysis (Missing Data) — 3–5 sentences\n",
        "- Compare `dropna` vs groupwise fill—who shifts distribution more?\n",
        "- What assumption does your fill strategy make?\n",
        "- When would interpolation be inappropriate here?\n",
        "\n",
        "### 🔎 Quick checks\n",
        "- Report NaN counts before vs after.\n",
        "- Cite one numeric change for `tip`.\n",
        "\n",
        "### ➕ Extension (pick one)\n",
        "- Try a different group key for fill and compare MAE.\n",
        "- Plot hist pre/post fill for `tip`.\n",
        "\n",
        "**Rubric (10 pts):** Correctness 3 • Evidence 2 • Clarity 2 • Reproducibility 2 • Exploration 1"
      ],
      "id": "t9f8a-oAGMCh"
    },
    {
      "cell_type": "markdown",
      "source": [
        "Using dropna removes rows but can distort distribution if many records are lost; groupwise fill is usually safer.\n",
        "\n",
        "My fill strategy assumed tipping patterns are similar within the same day or meal type — a reasonable but simplifying assumption.\n",
        "\n",
        "Interpolation would not be suitable here because time isn’t continuous in the dataset (Lunch vs Dinner isn’t numeric time series)."
      ],
      "metadata": {
        "id": "4lXX8E-nTLZf"
      },
      "id": "4lXX8E-nTLZf"
    },
    {
      "cell_type": "markdown",
      "metadata": {
        "id": "I9UTjR5FGMCh"
      },
      "source": [
        "## 4) Analysis & Visualization (20m)"
      ],
      "id": "I9UTjR5FGMCh"
    },
    {
      "cell_type": "code",
      "metadata": {
        "id": "SWBHxkA6GMCh"
      },
      "source": [
        "print(\"Overall tip %:\", (tips['tip'].sum()/tips['total_bill'].sum()).round(3))"
      ],
      "outputs": [],
      "execution_count": null,
      "id": "SWBHxkA6GMCh"
    },
    {
      "cell_type": "code",
      "metadata": {
        "id": "uw9KuOlKGMCh"
      },
      "source": [
        "plt.figure(); plt.hist(tips['total_bill'].dropna(), bins=20)\n",
        "plt.title('Histogram: total_bill'); plt.xlabel('total_bill'); plt.ylabel('Frequency'); plt.show()"
      ],
      "outputs": [],
      "execution_count": null,
      "id": "uw9KuOlKGMCh"
    },
    {
      "cell_type": "code",
      "metadata": {
        "id": "r1UO-QZhGMCh"
      },
      "source": [
        "plt.figure()\n",
        "data = [tips.loc[tips['day']==d, 'tip'].dropna().values for d in tips['day'].cat.categories]\n",
        "plt.boxplot(data, labels=list(tips['day'].cat.categories))\n",
        "plt.title('Boxplot: tip by day'); plt.xlabel('day'); plt.ylabel('tip'); plt.show()"
      ],
      "outputs": [],
      "execution_count": null,
      "id": "r1UO-QZhGMCh"
    },
    {
      "cell_type": "code",
      "metadata": {
        "id": "OxOjuwmbGMCi"
      },
      "source": [
        "plt.figure(); plt.scatter(tips['total_bill'], tips['tip'], s=tips['size']*10, alpha=0.6)\n",
        "plt.title('Scatter: total_bill vs tip'); plt.xlabel('total_bill'); plt.ylabel('tip'); plt.show()"
      ],
      "outputs": [],
      "execution_count": null,
      "id": "OxOjuwmbGMCi"
    },
    {
      "cell_type": "code",
      "metadata": {
        "id": "5RWn0f8xGMCi"
      },
      "source": [
        "avg_tip_pct = tips.groupby('day')['tip_pct'].mean()\n",
        "plt.figure(); plt.bar(avg_tip_pct.index.astype(str), avg_tip_pct.values)\n",
        "plt.title('Average tip_pct by day'); plt.xlabel('day'); plt.ylabel('mean tip_pct'); plt.show()"
      ],
      "outputs": [],
      "execution_count": null,
      "id": "5RWn0f8xGMCi"
    },
    {
      "cell_type": "markdown",
      "metadata": {
        "id": "unHa5qyBGMCi"
      },
      "source": [
        "### ✅ Exercise 4\n",
        "1) Scatter: `total_bill` vs `tip_pct`. 2) Bar: median `total_bill` by `time`."
      ],
      "id": "unHa5qyBGMCi"
    },
    {
      "cell_type": "markdown",
      "metadata": {
        "id": "ZS8GBuOoGMCi"
      },
      "source": [
        "**Hints:**\n",
        "- Concept: relate vars via scatter; summarize via bar.\n",
        "- API: `plt.scatter`, `groupby().median` + `plt.bar`.\n"
      ],
      "id": "ZS8GBuOoGMCi"
    },
    {
      "cell_type": "code",
      "metadata": {
        "id": "Ru27Eu4jGMCi",
        "colab": {
          "base_uri": "https://localhost:8080/",
          "height": 880
        },
        "outputId": "c23ec860-c1cf-481d-f824-392451b97c34"
      },
      "source": [
        "# YOUR WORK: Exercise 4\n",
        "import pandas as pd, matplotlib.pyplot as plt\n",
        "\n",
        "url = \"https://raw.githubusercontent.com/mwaskom/seaborn-data/master/tips.csv\"\n",
        "tips = pd.read_csv(url)\n",
        "\n",
        "tips['tip_pct'] = tips['tip'] / tips['total_bill'] * 100\n",
        "\n",
        "plt.figure(figsize=(7,5))\n",
        "plt.scatter(tips['total_bill'], tips['tip_pct'], alpha=0.6)\n",
        "plt.xlabel(\"Total Bill ($)\")\n",
        "plt.ylabel(\"Tip Percentage (%)\")\n",
        "plt.title(\"Scatter Plot: Total Bill vs Tip Percentage\")\n",
        "plt.grid(True, linestyle='--', alpha=0.5)\n",
        "plt.show()\n",
        "\n",
        "median_bill_by_time = tips.groupby('time')['total_bill'].median()\n",
        "\n",
        "plt.figure(figsize=(6,4))\n",
        "median_bill_by_time.plot(kind='bar', color='skyblue', edgecolor='black')\n",
        "plt.xlabel(\"Time of Day\")\n",
        "plt.ylabel(\"Median Total Bill ($)\")\n",
        "plt.title(\"Median Total Bill by Time\")\n",
        "plt.xticks(rotation=0)\n",
        "plt.show()\n",
        "\n"
      ],
      "outputs": [
        {
          "output_type": "display_data",
          "data": {
            "text/plain": [
              "<Figure size 700x500 with 1 Axes>"
            ],
            "image/png": "[encoded data removed]"
          },
          "metadata": {}
        },
        {
          "output_type": "display_data",
          "data": {
            "text/plain": [
              "<Figure size 600x400 with 1 Axes>"
            ],
            "image/png": "[encoded data removed]"
          },
          "metadata": {}
        }
      ],
      "execution_count": null,
      "id": "Ru27Eu4jGMCi"
    },
    {
      "cell_type": "markdown",
      "metadata": {
        "id": "CN6k5xrjGMCi"
      },
      "source": [
        "### ✍️ Analysis (Analysis & Visualization) — 3–5 sentences\n",
        "- State one pattern that holds across days and one that differs Lunch vs Dinner.\n",
        "- Interpret scatter: linear? heteroscedastic?\n",
        "- What would you plot next?\n",
        "\n",
        "### 🔎 Quick checks\n",
        "- Quote one `.describe()` stat that supports your claim.\n",
        "- Ensure axes labels/titles are informative.\n",
        "\n",
        "### ➕ Extension (pick one)\n",
        "- Add a follow-up chart (e.g., tip% by party size) and describe it.\n",
        "- Bucket `total_bill` and compare medians.\n",
        "\n",
        "**Rubric (10 pts):** Correctness 3 • Evidence 2 • Clarity 2 • Reproducibility 2 • Exploration 1"
      ],
      "id": "CN6k5xrjGMCi"
    },
    {
      "cell_type": "markdown",
      "source": [
        "Across all days, Dinner generally has higher average total bills, but Lunch tips are proportionally closer to Dinner tips.\n",
        "\n",
        "Scatterplots show a roughly linear relation between total_bill and tip, though the spread widens for higher bills (heteroscedasticity).\n",
        "\n",
        "Next, I’d explore tip percentage vs party size to see if generosity changes with group size."
      ],
      "metadata": {
        "id": "G6Y_KfDdTRWg"
      },
      "id": "G6Y_KfDdTRWg"
    },
    {
      "cell_type": "markdown",
      "metadata": {
        "id": "wbfYoGUUGMCi"
      },
      "source": [
        "## 5) Grouping & Merging (20m)"
      ],
      "id": "wbfYoGUUGMCi"
    },
    {
      "cell_type": "code",
      "metadata": {
        "id": "74FpnxINGMCi"
      },
      "source": [
        "g = (tips.groupby(['day','time'])\n",
        "       .agg(count=('total_bill','size'), avg_bill=('total_bill','mean'),\n",
        "            avg_tip=('tip','mean'), avg_tip_pct=('tip_pct','mean'))); g.head()"
      ],
      "outputs": [],
      "execution_count": null,
      "id": "74FpnxINGMCi"
    },
    {
      "cell_type": "code",
      "metadata": {
        "id": "2NMehhcbGMCi"
      },
      "source": [
        "def pct_above_20(s): return (s>0.20).mean()\n",
        "\n",
        "tips.groupby('day')['tip_pct'].apply(pct_above_20)"
      ],
      "outputs": [],
      "execution_count": null,
      "id": "2NMehhcbGMCi"
    },
    {
      "cell_type": "code",
      "metadata": {
        "id": "ARGqxLHjGMCi"
      },
      "source": [
        "day_lookup = pd.DataFrame({'day':['Thur','Fri','Sat','Sun'],'is_weekend':[False,False,True,True]})\n",
        "tips_merge = tips.merge(day_lookup, on='day', how='left')\n",
        "tips_merge[['day','is_weekend']].drop_duplicates().sort_values('day')"
      ],
      "outputs": [],
      "execution_count": null,
      "id": "ARGqxLHjGMCi"
    },
    {
      "cell_type": "markdown",
      "metadata": {
        "id": "uGz7gZ4FGMCi"
      },
      "source": [
        "### ✅ Exercise 5\n",
        "1) Sum `total_bill` & `tip` by `smoker,sex`. 2) Map `time`→L/D and show pairs."
      ],
      "id": "uGz7gZ4FGMCi"
    },
    {
      "cell_type": "markdown",
      "metadata": {
        "id": "efXXkf6zGMCj"
      },
      "source": [
        "**Hints:**\n",
        "- Concept: summarize by groups; enrich via merge.\n",
        "- API: `groupby().agg`, `.merge`.\n"
      ],
      "id": "efXXkf6zGMCj"
    },
    {
      "cell_type": "code",
      "metadata": {
        "id": "Xg4lhKSrGMCj",
        "colab": {
          "base_uri": "https://localhost:8080/"
        },
        "outputId": "7bf960f2-62d4-4f2e-bdcc-9b4dbd5a402f"
      },
      "source": [
        "# YOUR WORK: Exercise 5\n",
        "import pandas as pd\n",
        "\n",
        "\n",
        "url = \"https://raw.githubusercontent.com/mwaskom/seaborn-data/master/tips.csv\"\n",
        "tips = pd.read_csv(url)\n",
        "\n",
        "summary = tips.groupby(['smoker', 'sex']).agg(\n",
        "    total_bill_sum=('total_bill', 'sum'),\n",
        "    tip_sum=('tip', 'sum')\n",
        ").reset_index()\n",
        "\n",
        "print(\"=== Sum of total_bill & tip by smoker, sex ===\")\n",
        "print(summary, \"\\n\")\n",
        "\n",
        "\n",
        "time_map = {'Lunch': 'L', 'Dinner': 'D'}\n",
        "\n",
        "time_map_df = pd.DataFrame(list(time_map.items()), columns=['time', 'time_code'])\n",
        "\n",
        "pairs = tips[['time']].drop_duplicates().merge(time_map_df, on='time')\n",
        "\n",
        "print(\"=== Time mapped to L/D ===\")\n",
        "print(pairs)\n"
      ],
      "outputs": [
        {
          "output_type": "stream",
          "name": "stdout",
          "text": [
            "=== Sum of total_bill & tip by smoker, sex ===\n",
            "  smoker     sex  total_bill_sum  tip_sum\n",
            "0     No  Female          977.68   149.77\n",
            "1     No    Male         1919.75   302.00\n",
            "2    Yes  Female          593.27    96.74\n",
            "3    Yes    Male         1337.07   183.07 \n",
            "\n",
            "=== Time mapped to L/D ===\n",
            "     time time_code\n",
            "0  Dinner         D\n",
            "1   Lunch         L\n"
          ]
        }
      ],
      "execution_count": null,
      "id": "Xg4lhKSrGMCj"
    },
    {
      "cell_type": "markdown",
      "metadata": {
        "id": "AurbY1QIGMCj"
      },
      "source": [
        "### ✍️ Analysis (Grouping & Merging) — 3–5 sentences\n",
        "- Translate one grouped table into a business insight.\n",
        "- How does `tip_pct` vs `tip` change ranking?\n",
        "- What join-key assumptions are you making?\n",
        "\n",
        "### 🔎 Quick checks\n",
        "- Show index/columns of grouped result.\n",
        "- Check row counts before/after a merge.\n",
        "\n",
        "### ➕ Extension (pick one)\n",
        "- Add `avg_tip_pp` and re-rank groups.\n",
        "- Outer join with `_indicator` and explain one mismatch.\n",
        "\n",
        "**Rubric (10 pts):** Correctness 3 • Evidence 2 • Clarity 2 • Reproducibility 2 • Exploration 1"
      ],
      "id": "AurbY1QIGMCj"
    },
    {
      "cell_type": "markdown",
      "source": [
        "Grouping by day showed that Saturday and Sunday dinners produce the highest revenue and tips — useful for restaurant staffing.\n",
        "\n",
        "Ranking by raw tip vs tip percentage tells a different story: big bills rank higher by raw tips, but small bills with high percentages shine when normalized.\n",
        "\n",
        "When merging external data (e.g., holiday calendar), I’d assume day is a valid join key — but mismatched spellings could cause issues."
      ],
      "metadata": {
        "id": "XVQNuqymTb1t"
      },
      "id": "XVQNuqymTb1t"
    },
    {
      "cell_type": "markdown",
      "metadata": {
        "id": "lDt5_AB2GMCj"
      },
      "source": [
        "## 6) Reshaping & Pivoting (15m)"
      ],
      "id": "lDt5_AB2GMCj"
    },
    {
      "cell_type": "code",
      "metadata": {
        "id": "7eObeWXkGMCj"
      },
      "source": [
        "piv = tips.pivot_table(index='day', columns='time', values='tip_pct', aggfunc='mean'); piv"
      ],
      "outputs": [],
      "execution_count": null,
      "id": "7eObeWXkGMCj"
    },
    {
      "cell_type": "code",
      "metadata": {
        "id": "Rk2mTY6bGMCj"
      },
      "source": [
        "long = tips[['day','time','total_bill','tip']].melt(id_vars=['day','time'], var_name='metric', value_name='value'); long.head()"
      ],
      "outputs": [],
      "execution_count": null,
      "id": "Rk2mTY6bGMCj"
    },
    {
      "cell_type": "markdown",
      "metadata": {
        "id": "e3xPmmXsGMCj"
      },
      "source": [
        "### ✅ Exercise 6\n",
        "1) Pivot mean `total_bill` by `size`×`day`. 2) Melt back to long with `size` as id."
      ],
      "id": "e3xPmmXsGMCj"
    },
    {
      "cell_type": "markdown",
      "metadata": {
        "id": "vAzf8gGlGMCj"
      },
      "source": [
        "**Hints:**\n",
        "- Concept: reshape wide↔long.\n",
        "- API: `pivot_table`, `melt`.\n"
      ],
      "id": "vAzf8gGlGMCj"
    },
    {
      "cell_type": "code",
      "metadata": {
        "id": "QdD0FI9-GMCj",
        "colab": {
          "base_uri": "https://localhost:8080/"
        },
        "outputId": "aa025925-fa77-420f-94db-dbc360c09237"
      },
      "source": [
        "# YOUR WORK: Exercise 6\n",
        "import pandas as pd\n",
        "\n",
        "\n",
        "url = \"https://raw.githubusercontent.com/mwaskom/seaborn-data/master/tips.csv\"\n",
        "tips = pd.read_csv(url)\n",
        "\n",
        "pivot_tbl = tips.pivot_table(\n",
        "    values='total_bill',\n",
        "    index='size',\n",
        "    columns='day',\n",
        "    aggfunc='mean'\n",
        ")\n",
        "\n",
        "print(\"=== Pivot: Mean total_bill by size × day ===\")\n",
        "print(pivot_tbl, \"\\n\")\n",
        "\n",
        "melted = pivot_tbl.reset_index().melt(\n",
        "    id_vars='size',\n",
        "    var_name='day',\n",
        "    value_name='mean_total_bill'\n",
        ")\n",
        "\n",
        "print(\"=== Melted back to long format ===\")\n",
        "print(melted.head())\n"
      ],
      "outputs": [
        {
          "output_type": "stream",
          "name": "stdout",
          "text": [
            "=== Pivot: Mean total_bill by size × day ===\n",
            "day         Fri        Sat        Sun       Thur\n",
            "size                                            \n",
            "1      8.580000   5.160000        NaN  10.070000\n",
            "2     16.321875  16.837170  17.560000  15.156875\n",
            "3     15.980000  25.509444  22.184000  19.160000\n",
            "4     40.170000  29.876154  26.688333  29.950000\n",
            "5           NaN  28.150000  27.000000  41.190000\n",
            "6           NaN        NaN  48.170000  30.383333 \n",
            "\n",
            "=== Melted back to long format ===\n",
            "   size  day  mean_total_bill\n",
            "0     1  Fri         8.580000\n",
            "1     2  Fri        16.321875\n",
            "2     3  Fri        15.980000\n",
            "3     4  Fri        40.170000\n",
            "4     5  Fri              NaN\n"
          ]
        }
      ],
      "execution_count": null,
      "id": "QdD0FI9-GMCj"
    },
    {
      "cell_type": "markdown",
      "metadata": {
        "id": "qICz9TP5GMCj"
      },
      "source": [
        "### ✍️ Analysis (Reshaping & Pivoting) — 3–5 sentences\n",
        "- When did `pivot_table` drop rows/cols vs `melt`?\n",
        "- Explain wide↔long trade-offs here.\n",
        "- Which format suits your chosen chart and why?\n",
        "\n",
        "### 🔎 Quick checks\n",
        "- Confirm shapes of pivot vs long tables.\n",
        "- List index/columns used in your pivot.\n",
        "\n",
        "### ➕ Extension (pick one)\n",
        "- Change `aggfunc` and compare results.\n",
        "- Add a second dimension in pivot.\n",
        "\n",
        "**Rubric (10 pts):** Correctness 3 • Evidence 2 • Clarity 2 • Reproducibility 2 • Exploration 1"
      ],
      "id": "qICz9TP5GMCj"
    },
    {
      "cell_type": "markdown",
      "source": [
        "pivot_table gave a compact wide-format view, but it dropped categories with no entries; melt preserved all rows in long form.\n",
        "\n",
        "Wide format is easier for summary comparisons, while long format is better for plotting multiple categories.\n",
        "\n",
        "For this dataset, long format suits visualization tasks like comparing tip % across day × time."
      ],
      "metadata": {
        "id": "nYdcvHapTgkx"
      },
      "id": "nYdcvHapTgkx"
    },
    {
      "cell_type": "markdown",
      "metadata": {
        "id": "tB74f0jQGMCk"
      },
      "source": [
        "## 7) Mini-Project: When are tips the most generous? (5–10m)"
      ],
      "id": "tB74f0jQGMCk"
    },
    {
      "cell_type": "code",
      "metadata": {
        "id": "Pad1f75_GMCk"
      },
      "source": [
        "piv = tips.pivot_table(index='day', columns='time', values='tip_pct', aggfunc='mean')\n",
        "print(piv.stack().sort_values(ascending=False).head(5))\n",
        "plt.figure(); plt.imshow(piv.values, aspect='auto')\n",
        "plt.title('Mean tip_pct by day & time'); plt.xlabel('time'); plt.ylabel('day')\n",
        "plt.xticks(range(len(piv.columns)), piv.columns.astype(str))\n",
        "plt.yticks(range(len(piv.index)), piv.index.astype(str))\n",
        "plt.colorbar(); plt.show()"
      ],
      "outputs": [],
      "execution_count": null,
      "id": "Pad1f75_GMCk"
    },
    {
      "cell_type": "markdown",
      "metadata": {
        "id": "9_b-puLcGMCk"
      },
      "source": [
        "### ✍️ Analysis (Mini-Project (Tips Generosity)) — 3–5 sentences\n",
        "- State your top day×time combo with mean `tip_pct`.\n",
        "- Is it robust to outliers? How to check?\n",
        "- One follow-up action for a restaurant.\n",
        "\n",
        "### 🔎 Quick checks\n",
        "- Show top 3 combos and their counts.\n",
        "- Confirm sample size for top combo.\n",
        "\n",
        "### ➕ Extension (pick one)\n",
        "- Recompute using median `tip_pct`.\n",
        "- Exclude size<2 and compare ranking.\n",
        "\n",
        "**Rubric (10 pts):** Correctness 3 • Evidence 2 • Clarity 2 • Reproducibility 2 • Exploration 1"
      ],
      "id": "9_b-puLcGMCk"
    },
    {
      "cell_type": "markdown",
      "source": [
        "The top combination by mean tip percentage was Lunch on Thursday (small groups, generous tips).\n",
        "\n",
        "However, this may be influenced by outliers — a few large tippers could skew the mean. Checking the median would confirm robustness.\n",
        "\n",
        "A restaurant could use this insight to promote Thursday lunches or adjust staff planning."
      ],
      "metadata": {
        "id": "HGw7w5jVTqJv"
      },
      "id": "HGw7w5jVTqJv"
    },
    {
      "cell_type": "markdown",
      "metadata": {
        "id": "DP1BS3DfGMCk"
      },
      "source": [
        "# Advanced Module — Daily Operations Coverage (~60–75m)"
      ],
      "id": "DP1BS3DfGMCk"
    },
    {
      "cell_type": "markdown",
      "metadata": {
        "id": "RwpjDiTbGMCk"
      },
      "source": [
        "## 8) Indexes & MultiIndex (10m)"
      ],
      "id": "RwpjDiTbGMCk"
    },
    {
      "cell_type": "code",
      "metadata": {
        "id": "uVy-BrwFGMCk"
      },
      "source": [
        "ti = tips.set_index(['day','time']).sort_index()\n",
        "ti.loc[('Sat','Dinner')].head()"
      ],
      "outputs": [],
      "execution_count": null,
      "id": "uVy-BrwFGMCk"
    },
    {
      "cell_type": "code",
      "metadata": {
        "id": "X9H7BQdOGMCk"
      },
      "source": [
        "ti.groupby(level=['day','time'])['tip_pct'].mean().reset_index(name='mean_tip_pct').head()"
      ],
      "outputs": [],
      "execution_count": null,
      "id": "X9H7BQdOGMCk"
    },
    {
      "cell_type": "markdown",
      "metadata": {
        "id": "MHZAMaPNGMCk"
      },
      "source": [
        "### ✍️ Analysis (Indexes & MultiIndex) — 3–5 sentences\n",
        "- What did a MultiIndex buy you over flat columns?\n",
        "- Give one easier slice enabled by the index.\n",
        "- Any pitfalls when saving/loading with MultiIndex?\n",
        "\n",
        "### 🔎 Quick checks\n",
        "- Print `.index.names` and level dtypes.\n",
        "- Show one `.loc` label slice on multi-level.\n",
        "\n",
        "### ➕ Extension (pick one)\n",
        "- Swap levels and explain slicing change.\n",
        "- Reset index and compare to original columns.\n",
        "\n",
        "**Rubric (10 pts):** Correctness 3 • Evidence 2 • Clarity 2 • Reproducibility 2 • Exploration 1"
      ],
      "id": "MHZAMaPNGMCk"
    },
    {
      "cell_type": "markdown",
      "source": [
        "A MultiIndex allows slicing by day and time simultaneously, making certain queries (like “Dinner on Friday”) faster and clearer.\n",
        "\n",
        "It enabled easier subsetting without repeated filtering conditions.\n",
        "\n",
        "The main pitfall is saving/loading: some file formats (like CSV) don’t preserve MultiIndex well."
      ],
      "metadata": {
        "id": "HI577lzhTwOn"
      },
      "id": "HI577lzhTwOn"
    },
    {
      "cell_type": "markdown",
      "metadata": {
        "id": "Qb2M1XFvGMCk"
      },
      "source": [
        "## 9) Time Series & Resampling (15m)"
      ],
      "id": "Qb2M1XFvGMCk"
    },
    {
      "cell_type": "code",
      "metadata": {
        "id": "PFmy_zK8GMCk"
      },
      "source": [
        "tips_ts = tips.copy()\n",
        "tips_ts['date'] = pd.to_datetime('2024-01-01') + pd.to_timedelta(np.arange(len(tips_ts)), unit='D')\n",
        "tips_ts = tips_ts.set_index('date').sort_index()\n",
        "weekly = tips_ts.resample('W')[['total_bill','tip']].sum()\n",
        "weekly['tip_pct'] = weekly['tip']/weekly['total_bill']\n",
        "weekly['tip_pct_roll4'] = weekly['tip_pct'].rolling(4, min_periods=1).mean()\n",
        "weekly.head()"
      ],
      "outputs": [],
      "execution_count": null,
      "id": "PFmy_zK8GMCk"
    },
    {
      "cell_type": "markdown",
      "metadata": {
        "id": "DMPwM6UOGMCl"
      },
      "source": [
        "### ✍️ Analysis (Time Series & Resampling) — 3–5 sentences\n",
        "- What trend do you see weekly vs monthly?\n",
        "- Interpret divergence between raw and rolling series.\n",
        "- Why pick `W` vs `MS`?\n",
        "\n",
        "### 🔎 Quick checks\n",
        "- Report min/max dates in your index.\n",
        "- State the rolling window used and its effect.\n",
        "\n",
        "### ➕ Extension (pick one)\n",
        "- Try a different window size and compare.\n",
        "- Plot both resampled and rolling series; note one change.\n",
        "\n",
        "**Rubric (10 pts):** Correctness 3 • Evidence 2 • Clarity 2 • Reproducibility 2 • Exploration 1"
      ],
      "id": "DMPwM6UOGMCl"
    },
    {
      "cell_type": "markdown",
      "source": [
        "Weekly resampling smoothed the trend but showed variability; monthly resampling highlighted broader patterns.\n",
        "\n",
        "Rolling averages diverged from raw values during sudden spikes, giving a clearer long-term trend.\n",
        "\n",
        "Choosing W (weekly) vs MS (month-start) depends on whether the focus is operational (week-to-week) or strategic (month-to-month)."
      ],
      "metadata": {
        "id": "cjnzGCkiT0Os"
      },
      "id": "cjnzGCkiT0Os"
    },
    {
      "cell_type": "markdown",
      "metadata": {
        "id": "D-bINzNSGMCl"
      },
      "source": [
        "## 10) Rolling & Window Ops (10m)"
      ],
      "id": "D-bINzNSGMCl"
    },
    {
      "cell_type": "code",
      "metadata": {
        "id": "ZOkJFILgGMCl"
      },
      "source": [
        "daily = tips_ts.resample('D')[['total_bill']].sum()\n",
        "daily['roll14_med'] = daily['total_bill'].rolling(14, min_periods=1).median()\n",
        "daily[['total_bill','roll14_med']].head()"
      ],
      "outputs": [],
      "execution_count": null,
      "id": "ZOkJFILgGMCl"
    },
    {
      "cell_type": "markdown",
      "metadata": {
        "id": "ktXfwqXsGMCl"
      },
      "source": [
        "### ✍️ Analysis (Rolling & Window Ops) — 3–5 sentences\n",
        "- Why is median sometimes preferable to mean in rolling stats?\n",
        "- What happens at the edges for rolling windows?\n",
        "- When is `expanding` more suitable than `rolling`?\n",
        "\n",
        "### 🔎 Quick checks\n",
        "- Show first 5 non-NaN rolling results.\n",
        "- Report `min_periods` and justify it.\n",
        "\n",
        "### ➕ Extension (pick one)\n",
        "- Compute an additional rolling metric (std/min) and interpret.\n",
        "- Compare 7 vs 14-day windows with one sentence.\n",
        "\n",
        "**Rubric (10 pts):** Correctness 3 • Evidence 2 • Clarity 2 • Reproducibility 2 • Exploration 1"
      ],
      "id": "ktXfwqXsGMCl"
    },
    {
      "cell_type": "markdown",
      "source": [
        "Median is sometimes preferable to mean since it reduces the influence of outliers (like one extreme tip).\n",
        "\n",
        "At the edges, rolling windows produce NaNs because not enough prior values exist — this must be handled in reporting.\n",
        "\n",
        "Expanding windows are more suitable when we want a cumulative trend rather than local smoothing."
      ],
      "metadata": {
        "id": "zW13MNK6T92X"
      },
      "id": "zW13MNK6T92X"
    },
    {
      "cell_type": "markdown",
      "metadata": {
        "id": "P5OudeWAGMCl"
      },
      "source": [
        "## 11) Text Data: vectorized & regex (10m)"
      ],
      "id": "P5OudeWAGMCl"
    },
    {
      "cell_type": "code",
      "metadata": {
        "id": "VHRae_hyGMCl"
      },
      "source": [
        "notes = np.array(['VIP table','Late night','Allergic: nuts','Birthday','Family','vip guest'])\n",
        "tips_txt = tips.copy()\n",
        "tips_txt['note'] = np.resize(notes, len(tips_txt)).astype('string')\n",
        "tips_txt['is_vip'] = tips_txt['note'].str.contains('vip', case=False)\n",
        "tips_txt['allergy'] = tips_txt['note'].str.extract(r'Allergic:\\s*(\\w+)', expand=False)\n",
        "tips_txt[['note','is_vip','allergy']].head()"
      ],
      "outputs": [],
      "execution_count": null,
      "id": "VHRae_hyGMCl"
    },
    {
      "cell_type": "markdown",
      "metadata": {
        "id": "0hp1fGDYGMCl"
      },
      "source": [
        "### ✍️ Analysis (Text / Regex) — 3–5 sentences\n",
        "- Which regex or string op gave most value here?\n",
        "- How sensitive are your results to case/spacing?\n",
        "- One potential false positive in your pattern.\n",
        "\n",
        "### 🔎 Quick checks\n",
        "- Print counts of a detected flag (e.g., VIP).\n",
        "- Show unique extracted tokens (e.g., allergies).\n",
        "\n",
        "### ➕ Extension (pick one)\n",
        "- Add a refined regex (word boundaries) and compare counts.\n",
        "- Normalize text further and re-check.\n",
        "\n",
        "**Rubric (10 pts):** Correctness 3 • Evidence 2 • Clarity 2 • Reproducibility 2 • Exploration 1"
      ],
      "id": "0hp1fGDYGMCl"
    },
    {
      "cell_type": "markdown",
      "metadata": {
        "id": "0TJ_WOAAGMCl"
      },
      "source": [
        "## 12) Nullable dtypes & Memory (5m)"
      ],
      "id": "0TJ_WOAAGMCl"
    },
    {
      "cell_type": "code",
      "metadata": {
        "id": "cwZs2TvkGMCl"
      },
      "source": [
        "tips_mem = tips.copy()\n",
        "tips_mem['size_N'] = tips_mem['size'].astype('Int64')\n",
        "tips_mem['sex_S']  = tips_mem['sex'].astype('string')\n",
        "tips_mem['day_C']  = tips_mem['day'].astype('category')\n",
        "tips_mem.memory_usage(deep=True)"
      ],
      "outputs": [],
      "execution_count": null,
      "id": "cwZs2TvkGMCl"
    },
    {
      "cell_type": "markdown",
      "metadata": {
        "id": "8romp2K_GMCl"
      },
      "source": [
        "### ✍️ Analysis (Dtypes & Memory) — 3–5 sentences\n",
        "- What memory savings did `category` or `string` yield?\n",
        "- When would you avoid `category`?\n",
        "- Any effect on joins/groupbys?\n",
        "\n",
        "### 🔎 Quick checks\n",
        "- Show `memory_usage(deep=True)` before/after one cast.\n",
        "- List `.cat.categories` for one column.\n",
        "\n",
        "### ➕ Extension (pick one)\n",
        "- Downcast numerics where safe and report delta.\n",
        "- Switch one feature to `Int64` and explain why.\n",
        "\n",
        "**Rubric (10 pts):** Correctness 3 • Evidence 2 • Clarity 2 • Reproducibility 2 • Exploration 1"
      ],
      "id": "8romp2K_GMCl"
    },
    {
      "cell_type": "markdown",
      "metadata": {
        "id": "J8Y9a9kqGMCl"
      },
      "source": [
        "## 13) I/O: CSV, Parquet, JSON, SQL (10m)"
      ],
      "id": "J8Y9a9kqGMCl"
    },
    {
      "cell_type": "code",
      "metadata": {
        "id": "uXwnzkYWGMCm"
      },
      "source": [
        "subset = tips[['total_bill','tip','day','time','size']].head(20)\n",
        "subset.to_csv('tips_sample.csv', index=False)\n",
        "subset.to_parquet('tips_sample.parquet', index=False)\n",
        "subset.to_json('tips_sample.json', orient='records', lines=True)\n",
        "import sqlite3\n",
        "con = sqlite3.connect(':memory:')\n",
        "subset.to_sql('tips_tbl', con, index=False, if_exists='replace')\n",
        "sql_df = pd.read_sql('SELECT day, time, AVG(total_bill) AS avg_bill FROM tips_tbl GROUP BY day,time', con)\n",
        "con.close(); sql_df.head()"
      ],
      "outputs": [],
      "execution_count": null,
      "id": "uXwnzkYWGMCm"
    },
    {
      "cell_type": "markdown",
      "metadata": {
        "id": "pA53s-brGMCm"
      },
      "source": [
        "### ✍️ Analysis (I/O) — 3–5 sentences\n",
        "- Which format is best for speed vs size for this table? Why?\n",
        "- Did any dtype change after round-trip?\n",
        "- When to use line-delimited JSON?\n",
        "\n",
        "### 🔎 Quick checks\n",
        "- Compare shapes from CSV/Parquet/JSON loads.\n",
        "- Show one dtype discrepancy and fix it.\n",
        "\n",
        "### ➕ Extension (pick one)\n",
        "- Compress CSV (gzip) and note file size.\n",
        "- Do a small SQL query and validate results match a groupby.\n",
        "\n",
        "**Rubric (10 pts):** Correctness 3 • Evidence 2 • Clarity 2 • Reproducibility 2 • Exploration 1"
      ],
      "id": "pA53s-brGMCm"
    },
    {
      "cell_type": "markdown",
      "metadata": {
        "id": "lUqb0qE4GMCm"
      },
      "source": [
        "## 14) Join Patterns (10–15m)"
      ],
      "id": "lUqb0qE4GMCm"
    },
    {
      "cell_type": "code",
      "metadata": {
        "id": "tUr36HQrGMCm"
      },
      "source": [
        "left = tips[['day','time','size']].drop_duplicates().copy()\n",
        "right = tips[['day','time','tip']].groupby(['day','time']).mean().reset_index().rename(columns={'tip':'avg_tip'})\n",
        "joined = left.merge(right, on=['day','time'], how='outer', indicator=True)\n",
        "joined.head()"
      ],
      "outputs": [],
      "execution_count": null,
      "id": "tUr36HQrGMCm"
    },
    {
      "cell_type": "code",
      "metadata": {
        "id": "1zKat35wGMCm"
      },
      "source": [
        "# Right-only and inner (semi-join-style)\n",
        "right_only = joined.loc[joined['_merge']=='right_only', right.columns]\n",
        "inner_rows = joined.loc[joined['_merge']=='both', left.columns].drop_duplicates()\n",
        "len(inner_rows)"
      ],
      "outputs": [],
      "execution_count": null,
      "id": "1zKat35wGMCm"
    },
    {
      "cell_type": "code",
      "metadata": {
        "id": "yFx__ioiGMCm"
      },
      "source": [
        "# merge_ordered and merge_asof demos\n",
        "a = pd.DataFrame({'day':['Fri','Sat','Sun'], 'rank':[1,2,3]})\n",
        "b = pd.DataFrame({'day':['Thur','Sat','Sun'], 'score':[70,80,90]})\n",
        "ordered = pd.merge_ordered(a, b, on='day', how='outer')\n",
        "events = pd.DataFrame({'when': pd.to_datetime(['2024-01-01 10:00','2024-01-02 12:30','2024-01-04 09:00']),'event':['A','B','C']}).sort_values('when')\n",
        "measures = pd.DataFrame({'when': pd.to_datetime(['2024-01-01 09:45','2024-01-02 12:00','2024-01-03 18:00','2024-01-04 08:50']),'value':[10,20,15,30]}).sort_values('when')\n",
        "asof_join = pd.merge_asof(events, measures, on='when', direction='nearest', tolerance=pd.Timedelta('1H'))\n",
        "ordered.head(), asof_join.head()"
      ],
      "outputs": [],
      "execution_count": null,
      "id": "yFx__ioiGMCm"
    },
    {
      "cell_type": "markdown",
      "metadata": {
        "id": "1I4hbEo6GMCm"
      },
      "source": [
        "### ✍️ Analysis (Joins) — 3–5 sentences\n",
        "- Read `_indicator` results—what mismatches did you find?\n",
        "- Where would `merge_asof` fit in a real pipeline?\n",
        "- Any ordering assumptions for `merge_ordered`?\n",
        "\n",
        "### 🔎 Quick checks\n",
        "- Report counts for left/right/inner.\n",
        "- Show 2 sample rows from an anti-join.\n",
        "\n",
        "### ➕ Extension (pick one)\n",
        "- Perform a semi-join and explain the use-case.\n",
        "- Add a composite key and re-merge.\n",
        "\n",
        "**Rubric (10 pts):** Correctness 3 • Evidence 2 • Clarity 2 • Reproducibility 2 • Exploration 1"
      ],
      "id": "1I4hbEo6GMCm"
    },
    {
      "cell_type": "markdown",
      "metadata": {
        "id": "VRau1JzHGMCm"
      },
      "source": [
        "## 15) Method Chaining & `.pipe`, `.query`, `.eval` (10m)"
      ],
      "id": "VRau1JzHGMCm"
    },
    {
      "cell_type": "code",
      "metadata": {
        "id": "NGi8bV1QGMCm"
      },
      "source": [
        "def add_bill_per_person(df): return df.assign(bill_per_person = df['total_bill']/df['size'])\n",
        "pipe_demo = (tips.query(\"time=='Dinner'\").pipe(add_bill_per_person)\n",
        "             .groupby('day').agg(mean_bill_pp=('bill_per_person','mean'),\n",
        "                                 mean_tip_pct=('tip_pct','mean'))\n",
        "             .sort_values('mean_bill_pp', ascending=False))\n",
        "eval_demo = tips.eval('bill_pp = total_bill / size')\n",
        "pipe_demo.head(), eval_demo[['total_bill','size','bill_pp']].head()"
      ],
      "outputs": [],
      "execution_count": null,
      "id": "NGi8bV1QGMCm"
    },
    {
      "cell_type": "markdown",
      "metadata": {
        "id": "c5Iji85vGMCm"
      },
      "source": [
        "### ✍️ Analysis (Method Chaining) — 3–5 sentences\n",
        "- What made the chained pipeline clearer or riskier?\n",
        "- Where would you break the chain for debugging?\n",
        "- When is `.eval` useful vs risky?\n",
        "\n",
        "### 🔎 Quick checks\n",
        "- Show final columns of your pipeline result.\n",
        "- Confirm idempotency by re-running.\n",
        "\n",
        "### ➕ Extension (pick one)\n",
        "- Refactor an earlier analysis into a chain; compare readability.\n",
        "- Encapsulate a step into `.pipe` and reuse it.\n",
        "\n",
        "**Rubric (10 pts):** Correctness 3 • Evidence 2 • Clarity 2 • Reproducibility 2 • Exploration 1"
      ],
      "id": "c5Iji85vGMCm"
    },
    {
      "cell_type": "markdown",
      "metadata": {
        "id": "ttn4WeBDGMCm"
      },
      "source": [
        "## 16) Crosstab, `cut/qcut`, `where/mask` (5–10m)"
      ],
      "id": "ttn4WeBDGMCm"
    },
    {
      "cell_type": "code",
      "metadata": {
        "id": "VRiNnzLgGMCn"
      },
      "source": [
        "ct = pd.crosstab(tips['smoker'], tips['day'])\n",
        "tips_bins = tips.copy()\n",
        "tips_bins['bill_bucket'] = pd.cut(tips_bins['total_bill'], bins=[0,10,20,30,50])\n",
        "bucket_mean = tips_bins.groupby('bill_bucket')['tip'].mean()\n",
        "tips_q = tips.assign(q = pd.qcut(tips['tip_pct'], 4, duplicates='drop'))\n",
        "ct, bucket_mean, tips_q.groupby('q')['total_bill'].mean()"
      ],
      "outputs": [],
      "execution_count": null,
      "id": "VRiNnzLgGMCn"
    },
    {
      "cell_type": "markdown",
      "metadata": {
        "id": "l_fwrj10GMCn"
      },
      "source": [
        "### ✍️ Analysis (Crosstab / Bucketing) — 3–5 sentences\n",
        "- What story does your crosstab tell in one sentence?\n",
        "- How did `cut` vs `qcut` change bucket sizes?\n",
        "- When is `where` preferable to boolean indexing?\n",
        "\n",
        "### 🔎 Quick checks\n",
        "- Show bucket edges and counts.\n",
        "- Verify monotonicity of bucket means if expected.\n",
        "\n",
        "### ➕ Extension (pick one)\n",
        "- Swap `qcut`/`cut` and compare stats.\n",
        "- Mask outliers and re-summarize.\n",
        "\n",
        "**Rubric (10 pts):** Correctness 3 • Evidence 2 • Clarity 2 • Reproducibility 2 • Exploration 1"
      ],
      "id": "l_fwrj10GMCn"
    },
    {
      "cell_type": "markdown",
      "metadata": {
        "id": "SkyRVBF3GMCn"
      },
      "source": [
        "## 17) Styling & Export (5m)"
      ],
      "id": "SkyRVBF3GMCn"
    },
    {
      "cell_type": "code",
      "metadata": {
        "id": "2I6ZOQdYGMCn"
      },
      "source": [
        "sty = (tips.groupby('day')[['total_bill','tip','tip_pct']].mean().round(2)\n",
        "         .style.format({'tip_pct':'{:.2%}'}).background_gradient(axis=None))\n",
        "html = sty.to_html()\n",
        "open('tips_report.html','w',encoding='utf-8').write(html)\n",
        "'Wrote tips_report.html'"
      ],
      "outputs": [],
      "execution_count": null,
      "id": "2I6ZOQdYGMCn"
    },
    {
      "cell_type": "markdown",
      "metadata": {
        "id": "WbIhIjUMGMCn"
      },
      "source": [
        "### ✍️ Analysis (Styling & Export) — 3–5 sentences\n",
        "- What formatting improved readability most?\n",
        "- How would a stakeholder use this HTML report?\n",
        "- One caution about styled HTML vs raw data files.\n",
        "\n",
        "### 🔎 Quick checks\n",
        "- Open the HTML to spot issues (NA/odd values).\n",
        "- Confirm underlying numbers (pre-style) are correct.\n",
        "\n",
        "### ➕ Extension (pick one)\n",
        "- Add one more style and explain choice.\n",
        "- Export both styled HTML and CSV for same table.\n",
        "\n",
        "**Rubric (10 pts):** Correctness 3 • Evidence 2 • Clarity 2 • Reproducibility 2 • Exploration 1"
      ],
      "id": "WbIhIjUMGMCn"
    },
    {
      "cell_type": "markdown",
      "metadata": {
        "id": "BojU9TdSGMCn"
      },
      "source": [
        "# Capstone Mini-Project (Free Dataset): **Titanic Survival Analysis** (30–45m)"
      ],
      "id": "BojU9TdSGMCn"
    },
    {
      "cell_type": "markdown",
      "metadata": {
        "id": "fHXr-aRXGMCn"
      },
      "source": [
        "**Source:** https://raw.githubusercontent.com/mwaskom/seaborn-data/master/titanic.csv"
      ],
      "id": "fHXr-aRXGMCn"
    },
    {
      "cell_type": "code",
      "metadata": {
        "id": "imErGmRGGMCn"
      },
      "source": [
        "import pandas as pd, numpy as np, matplotlib.pyplot as plt"
      ],
      "outputs": [],
      "execution_count": null,
      "id": "imErGmRGGMCn"
    },
    {
      "cell_type": "code",
      "metadata": {
        "id": "biByFAtRGMCn"
      },
      "source": [
        "tit_url = \"https://raw.githubusercontent.com/mwaskom/seaborn-data/master/titanic.csv\"\n",
        "titanic = pd.read_csv(tit_url)\n",
        "titanic.head()"
      ],
      "outputs": [],
      "execution_count": null,
      "id": "biByFAtRGMCn"
    },
    {
      "cell_type": "code",
      "metadata": {
        "id": "ks4v0JDNGMCn"
      },
      "source": [
        "print(\"Shape:\", titanic.shape)\n",
        "print(\"\\nInfo:\"); print(titanic.info())\n",
        "print(\"\\nMissing values per column:\"); print(titanic.isna().sum().sort_values(ascending=False).head(12))"
      ],
      "outputs": [],
      "execution_count": null,
      "id": "ks4v0JDNGMCn"
    },
    {
      "cell_type": "markdown",
      "metadata": {
        "id": "DTRhxvTdGMCo"
      },
      "source": [
        "## A) Data Cleaning & Feature Engineering"
      ],
      "id": "DTRhxvTdGMCo"
    },
    {
      "cell_type": "code",
      "metadata": {
        "id": "xjpUAG-VGMCo"
      },
      "source": [
        "df = titanic.copy()\n",
        "for col in ['sex','class','embarked','embark_town','alive','who','deck','alone','adult_male']:\n",
        "    if col in df.columns: df[col] = df[col].astype('category')\n",
        "age_med = df.groupby(['sex','class'])['age'].transform('median')\n",
        "df['age'] = df['age'].fillna(age_med)\n",
        "if df['embark_town'].isna().any():\n",
        "    mode_town = df['embark_town'].mode(dropna=True)\n",
        "    if not mode_town.empty: df['embark_town'] = df['embark_town'].fillna(mode_town.iloc[0])\n",
        "df['family_size'] = df['sibsp'].fillna(0) + df['parch'].fillna(0) + 1\n",
        "df['fare_pp'] = df['fare'] / df['family_size']\n",
        "df['deck'] = df['deck'].cat.add_categories(['Unknown']).fillna('Unknown')\n",
        "bins = [0,12,18,35,50,80]; labels = ['Child','Teen','YoungAdult','MidAge','Senior']\n",
        "df['age_group'] = pd.cut(df['age'], bins=bins, labels=labels, include_lowest=True)\n",
        "df.head()"
      ],
      "outputs": [],
      "execution_count": null,
      "id": "xjpUAG-VGMCo"
    },
    {
      "cell_type": "markdown",
      "metadata": {
        "id": "9Ky3kdqjGMCo"
      },
      "source": [
        "### ✅ Exercise A\n",
        "Check NaNs in `age`/`embark_town`, top `family_size`, % with `fare_pp>20`."
      ],
      "id": "9Ky3kdqjGMCo"
    },
    {
      "cell_type": "markdown",
      "metadata": {
        "id": "3XZrBnWTGMCo"
      },
      "source": [
        "**Hints:**\n",
        "- Concept: impute & feature engineer.\n",
        "- API: `groupby().transform('median')`, `.mode()`, `.cut`.\n"
      ],
      "id": "3XZrBnWTGMCo"
    },
    {
      "cell_type": "code",
      "metadata": {
        "id": "ifJ9p0G1GMCo",
        "colab": {
          "base_uri": "https://localhost:8080/"
        },
        "outputId": "011f2d05-1c30-4d01-e680-67b48694b88e"
      },
      "source": [
        "# YOUR WORK: Exercise A\n",
        "import pandas as pd\n",
        "\n",
        "url = \"https://raw.githubusercontent.com/mwaskom/seaborn-data/master/titanic.csv\"\n",
        "titanic = pd.read_csv(url)\n",
        "\n",
        "titanic['age'] = titanic.groupby(['class','sex'])['age'].transform(\n",
        "    lambda x: x.fillna(x.median())\n",
        ")\n",
        "\n",
        "titanic['embark_town'] = titanic['embark_town'].fillna(titanic['embark_town'].mode()[0])\n",
        "\n",
        "print(\"Remaining NaNs:\\n\", titanic[['age','embark_town']].isna().sum(), \"\\n\")\n",
        "\n",
        "titanic['family_size'] = titanic['sibsp'] + titanic['parch'] + 1\n",
        "print(\"Top family_size counts:\\n\", titanic['family_size'].value_counts().head(), \"\\n\")\n",
        "\n",
        "titanic['fare_pp'] = titanic['fare'] / titanic['family_size']\n",
        "pct_over_20 = (titanic['fare_pp'] > 20).mean() * 100\n",
        "print(f\"Percentage of passengers with fare per person > 20: {pct_over_20:.2f}%\")\n"
      ],
      "outputs": [
        {
          "output_type": "stream",
          "name": "stdout",
          "text": [
            "Remaining NaNs:\n",
            " age            0\n",
            "embark_town    0\n",
            "dtype: int64 \n",
            "\n",
            "Top family_size counts:\n",
            " family_size\n",
            "1    537\n",
            "2    161\n",
            "3    102\n",
            "4     29\n",
            "6     22\n",
            "Name: count, dtype: int64 \n",
            "\n",
            "Percentage of passengers with fare per person > 20: 25.36%\n"
          ]
        }
      ],
      "execution_count": null,
      "id": "ifJ9p0G1GMCo"
    },
    {
      "cell_type": "markdown",
      "metadata": {
        "id": "zAgiqNnyGMCo"
      },
      "source": [
        "## B) Survival Patterns"
      ],
      "id": "zAgiqNnyGMCo"
    },
    {
      "cell_type": "code",
      "metadata": {
        "id": "iO8UjhLZGMCo"
      },
      "source": [
        "overall_survival = df['survived'].mean(); print('Overall survival rate:', round(overall_survival,3))"
      ],
      "outputs": [],
      "execution_count": null,
      "id": "iO8UjhLZGMCo"
    },
    {
      "cell_type": "code",
      "metadata": {
        "id": "EmUYFu5AGMCo"
      },
      "source": [
        "surv_by_class = df.groupby('class')['survived'].mean().reindex(['First','Second','Third'])\n",
        "plt.figure(); plt.bar(surv_by_class.index.astype(str), surv_by_class.values)\n",
        "plt.title('Survival Rate by Class'); plt.xlabel('class'); plt.ylabel('survival rate'); plt.show()"
      ],
      "outputs": [],
      "execution_count": null,
      "id": "EmUYFu5AGMCo"
    },
    {
      "cell_type": "code",
      "metadata": {
        "id": "kMue6CvPGMCo"
      },
      "source": [
        "piv = df.pivot_table(index='sex', columns='class', values='survived', aggfunc='mean')\n",
        "plt.figure(); plt.imshow(piv.values, aspect='auto')\n",
        "plt.title('Survival Rate by Sex × Class'); plt.xlabel('class'); plt.ylabel('sex')\n",
        "plt.xticks(range(len(piv.columns)), piv.columns.astype(str))\n",
        "plt.yticks(range(len(piv.index)), piv.index.astype(str))\n",
        "plt.colorbar(); plt.show(); piv"
      ],
      "outputs": [],
      "execution_count": null,
      "id": "kMue6CvPGMCo"
    },
    {
      "cell_type": "markdown",
      "metadata": {
        "id": "1rNOSXUYGMCo"
      },
      "source": [
        "### ✅ Exercise B\n",
        "1) Histogram of age. 2) Boxplot fare by class. 3) Bar of survival by age_group."
      ],
      "id": "1rNOSXUYGMCo"
    },
    {
      "cell_type": "markdown",
      "metadata": {
        "id": "g8ieRoQeGMCo"
      },
      "source": [
        "**Hints:**\n",
        "- Concept: univariate + grouped visuals.\n",
        "- API: `plt.hist`, `plt.boxplot`, `groupby().mean` + `plt.bar`.\n"
      ],
      "id": "g8ieRoQeGMCo"
    },
    {
      "cell_type": "code",
      "metadata": {
        "id": "lpwhrl5TGMCo",
        "colab": {
          "base_uri": "https://localhost:8080/",
          "height": 1000
        },
        "outputId": "925707b1-0cb1-496e-f38d-56d52110b4c1"
      },
      "source": [
        "# YOUR WORK: Exercise B\n",
        "import pandas as pd\n",
        "import matplotlib.pyplot as plt\n",
        "\n",
        "\n",
        "url = \"https://raw.githubusercontent.com/mwaskom/seaborn-data/master/titanic.csv\"\n",
        "titanic = pd.read_csv(url)\n",
        "\n",
        "\n",
        "plt.figure(figsize=(6,4))\n",
        "plt.hist(titanic['age'].dropna(), bins=20, color='skyblue', edgecolor='black')\n",
        "plt.xlabel(\"Age\")\n",
        "plt.ylabel(\"Count\")\n",
        "plt.title(\"Histogram of Passenger Ages\")\n",
        "plt.show()\n",
        "\n",
        "plt.figure(figsize=(6,4))\n",
        "\n",
        "fare_data = [titanic.loc[titanic['class']==cls, 'fare'].dropna() for cls in ['First','Second','Third']]\n",
        "plt.boxplot(fare_data, tick_labels=['First','Second','Third'])\n",
        "plt.xlabel(\"Passenger Class\")\n",
        "plt.ylabel(\"Fare\")\n",
        "plt.title(\"Boxplot of Fare by Class\")\n",
        "plt.show()\n",
        "\n",
        "bins = [0, 12, 18, 35, 50, 80]\n",
        "labels = ['Child','Teen','Young Adult','Adult','Senior']\n",
        "titanic['age_group'] = pd.cut(titanic['age'], bins=bins, labels=labels, right=False)\n",
        "\n",
        "survival_by_agegroup = titanic.groupby('age_group', observed=True)['survived'].mean()\n",
        "\n",
        "plt.figure(figsize=(6,4))\n",
        "plt.bar(survival_by_agegroup.index.astype(str), survival_by_agegroup.values, color='salmon', edgecolor='black')\n",
        "plt.xlabel(\"Age Group\")\n",
        "plt.ylabel(\"Survival Rate\")\n",
        "plt.title(\"Survival Rate by Age Group\")\n",
        "plt.show()\n"
      ],
      "outputs": [
        {
          "output_type": "display_data",
          "data": {
            "text/plain": [
              "<Figure size 600x400 with 1 Axes>"
            ],
            "image/png": "[encoded data removed]"
          },
          "metadata": {}
        },
        {
          "output_type": "display_data",
          "data": {
            "text/plain": [
              "<Figure size 600x400 with 1 Axes>"
            ],
            "image/png": "[encoded data removed]"
          },
          "metadata": {}
        },
        {
          "output_type": "display_data",
          "data": {
            "text/plain": [
              "<Figure size 600x400 with 1 Axes>"
            ],
            "image/png": "[encoded data removed]"
          },
          "metadata": {}
        }
      ],
      "execution_count": null,
      "id": "lpwhrl5TGMCo"
    },
    {
      "cell_type": "markdown",
      "metadata": {
        "id": "jBMW5ehwGMCp"
      },
      "source": [
        "## C) Subgroup Discovery"
      ],
      "id": "jBMW5ehwGMCp"
    },
    {
      "cell_type": "code",
      "metadata": {
        "id": "iNQ1Zae3GMCp"
      },
      "source": [
        "grp = (df.groupby(['sex','class','embark_town'])\n",
        "         .agg(n=('survived','size'), surv_rate=('survived','mean'))\n",
        "         .query('n >= 25')\n",
        "         .sort_values('surv_rate', ascending=False))\n",
        "grp.head(10)"
      ],
      "outputs": [],
      "execution_count": null,
      "id": "iNQ1Zae3GMCp"
    },
    {
      "cell_type": "markdown",
      "metadata": {
        "id": "JesqeKjZGMCp"
      },
      "source": [
        "### ✅ Exercise C\n",
        "Families with `family_size≥4`: survival by `sex` & `class` (n + rate). Bucket `fare_pp` and compute survival per bucket."
      ],
      "id": "JesqeKjZGMCp"
    },
    {
      "cell_type": "markdown",
      "metadata": {
        "id": "NGEzxmI2GMCp"
      },
      "source": [
        "**Hints:**\n",
        "- Concept: subgroup analysis with thresholds.\n",
        "- API: `groupby().agg`, `query`, `cut`.\n"
      ],
      "id": "NGEzxmI2GMCp"
    },
    {
      "cell_type": "code",
      "metadata": {
        "id": "TDhSYUpmGMCp",
        "colab": {
          "base_uri": "https://localhost:8080/"
        },
        "outputId": "40557af5-0420-4488-d78f-d099fb88e012"
      },
      "source": [
        "# YOUR WORK: Exercise C\n",
        "import pandas as pd\n",
        "\n",
        "url = \"https://raw.githubusercontent.com/mwaskom/seaborn-data/master/titanic.csv\"\n",
        "titanic = pd.read_csv(url)\n",
        "\n",
        "\n",
        "titanic['family_size'] = titanic['sibsp'] + titanic['parch'] + 1\n",
        "titanic['fare_pp'] = titanic['fare'] / titanic['family_size']\n",
        "\n",
        "large_families = titanic.query(\"family_size >= 4\")\n",
        "\n",
        "survival_summary = (\n",
        "    large_families\n",
        "    .groupby(['sex','class'])\n",
        "    .agg(\n",
        "        n=('survived','size'),\n",
        "        survival_rate=('survived','mean')\n",
        "    )\n",
        "    .reset_index()\n",
        ")\n",
        "\n",
        "print(\"=== Survival in Families with size ≥ 4 (by sex & class) ===\")\n",
        "print(survival_summary, \"\\n\")\n",
        "\n",
        "bins = [0, 10, 20, 50, 100, 600]\n",
        "labels = ['0–10', '10–20', '20–50', '50–100', '100+']\n",
        "titanic['fare_bucket'] = pd.cut(titanic['fare_pp'], bins=bins, labels=labels, right=False)\n",
        "\n",
        "survival_by_fare = (\n",
        "    titanic\n",
        "    .groupby('fare_bucket', observed=True)['survived']\n",
        "    .mean()\n",
        "    .reset_index()\n",
        ")\n",
        "\n",
        "print(\"=== Survival rate by Fare per Person bucket ===\")\n",
        "print(survival_by_fare)\n"
      ],
      "outputs": [
        {
          "output_type": "stream",
          "name": "stdout",
          "text": [
            "=== Survival in Families with size ≥ 4 (by sex & class) ===\n",
            "      sex   class   n  survival_rate\n",
            "0  female   First   8       0.750000\n",
            "1  female  Second  11       1.000000\n",
            "2  female   Third  33       0.242424\n",
            "3    male   First   5       0.600000\n",
            "4    male  Second   4       0.250000\n",
            "5    male   Third  30       0.066667 \n",
            "\n",
            "=== Survival rate by Fare per Person bucket ===\n",
            "  fare_bucket  survived\n",
            "0        0–10  0.270059\n",
            "1       10–20  0.435065\n",
            "2       20–50  0.559748\n",
            "3      50–100  0.666667\n",
            "4        100+  0.818182\n"
          ]
        }
      ],
      "execution_count": null,
      "id": "TDhSYUpmGMCp"
    },
    {
      "cell_type": "markdown",
      "metadata": {
        "id": "87VlGwK1GMCp"
      },
      "source": [
        "## D) Deliverables"
      ],
      "id": "87VlGwK1GMCp"
    },
    {
      "cell_type": "code",
      "metadata": {
        "id": "FbDiIweOGMCp"
      },
      "source": [
        "top10 = grp.head(10).reset_index()\n",
        "sty = (top10.style.format({'surv_rate':'{:.2%}'}).hide(axis='index'))\n",
        "html = sty.to_html()\n",
        "open('titanic_top10_survival.html','w',encoding='utf-8').write(html)\n",
        "top10.to_csv('titanic_top10_survival.csv', index=False)\n",
        "\"Saved titanic_top10_survival.html and titanic_top10_survival.csv\""
      ],
      "outputs": [],
      "execution_count": null,
      "id": "FbDiIweOGMCp"
    },
    {
      "cell_type": "markdown",
      "metadata": {
        "id": "r0cA67QFGMCp"
      },
      "source": [
        "### ✍️ Analysis (Capstone — Titanic) — 3–5 sentences\n",
        "- State your main finding (who/when/context) with one number and one plot reference.\n",
        "- Name one limitation in your approach (bias, leakage, imputation).\n",
        "- Suggest a next step or feature to add.\n",
        "\n",
        "### 🔎 Quick checks\n",
        "- Link the exact cell/table backing your claim.\n",
        "- Confirm deliverables (HTML + CSV) were written.\n",
        "\n",
        "### ➕ Extension (pick one)\n",
        "- Add an extra feature (e.g., `is_child`, z-scored fare) and see if subgroup ranking changes.\n",
        "- Try a different minimum group size and discuss stability.\n",
        "\n",
        "**Rubric (10 pts):** Correctness 3 • Evidence 2 • Clarity 2 • Reproducibility 2 • Exploration 1"
      ],
      "id": "r0cA67QFGMCp"
    }
  ],
  "metadata": {
    "colab": {
      "provenance": []
    },
    "kernelspec": {
      "display_name": "Python 3",
      "language": "python",
      "name": "python3"
    },
    "language_info": {
      "name": "python",
      "pygments_lexer": "ipython3"
    }
  },
  "nbformat": 4,
  "nbformat_minor": 5
}